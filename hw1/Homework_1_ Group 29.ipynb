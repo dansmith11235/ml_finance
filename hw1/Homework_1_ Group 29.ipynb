{
 "cells": [
  {
   "cell_type": "markdown",
   "metadata": {},
   "source": [
    "# Problem 1: Other activation functions (20%)\n",
    "### The leaky Relu is defined as $max(0.1x, x)$. \n",
    " - What is its derivative? (Please express in \"easy\" format\")\n",
    " - Is it suitable for back propagation?\n",
    " \n",
    "### $tanh$ is defined as  $\\frac{e^{x} - e^{-x}}{e^{x} + e^{-x}}$. \n",
    " - What is its derivative? (Please express in \"easy\" format\")\n",
    " - Is it suitable for back propagation?\n",
    " - How is it different from the sigmoid activation"
   ]
  },
  {
   "cell_type": "markdown",
   "metadata": {},
   "source": [
    "Leaky relu ------\n",
    "\n",
    "Derivative 0.1 when x < 0 and 1 when x > 0\n",
    "\n",
    "It is suitable for backpropagation as it fixes the dead neuron problem encountered with Relu. This happens when the weights are updated in such a way that they remain inactive during the rest of the training process"
   ]
  },
  {
   "cell_type": "markdown",
   "metadata": {},
   "source": [
    "Tanh -------\n",
    "\n",
    "Derivative of $tanh(x)$ is $1 - tanh(x)^2$\n",
    "\n",
    "Tanh is a variant of sigmoid and is suitable for backpropagation. It is often thought to be more efficient than sigmoid because it is centered around zero and allows negative values. This provides more flexibility and can lead to faster convergence.\n",
    "\n",
    "Tanh is linearly related to sigmoind. In fact it is a scaled version of sigmoid. Scaled between -1 and 1 (centered around zero), while sigmoid is contained between 0 and 1 and centered around 0.5"
   ]
  },
  {
   "cell_type": "markdown",
   "metadata": {},
   "source": [
    "# Problem 2: Linear regression in Keras (40%)\n",
    "\n",
    "#### We'd like to use keras to perform linear regression and compare it to another tool (scikit-learn)\n",
    "#### We'll compare OLS, ridge ($L2$ regularization) and LASSO ($L1$ regularization) using both keras and scikit-learn\n"
   ]
  },
  {
   "cell_type": "code",
   "execution_count": 1,
   "metadata": {},
   "outputs": [
    {
     "name": "stdout",
     "output_type": "stream",
     "text": [
      "Populating the interactive namespace from numpy and matplotlib\n"
     ]
    },
    {
     "name": "stderr",
     "output_type": "stream",
     "text": [
      "Using TensorFlow backend.\n"
     ]
    }
   ],
   "source": [
    "import numpy as np\n",
    "import pandas as pd\n",
    "import matplotlib.pyplot as plt\n",
    "%pylab inline\n",
    "\n",
    "from sklearn.linear_model import LinearRegression\n",
    "from sklearn.metrics import r2_score, mean_squared_error\n",
    "\n",
    "# many of these imports to be removed\n",
    "from keras.models import Model, Input\n",
    "from keras.layers import Dense, Softmax, Dropout\n",
    "from keras.regularizers import l1_l2\n",
    "from keras.optimizers import RMSprop\n",
    "import keras.backend as K"
   ]
  },
  {
   "cell_type": "code",
   "execution_count": 2,
   "metadata": {},
   "outputs": [],
   "source": [
    "np.random.seed(42)"
   ]
  },
  {
   "cell_type": "code",
   "execution_count": 3,
   "metadata": {},
   "outputs": [],
   "source": [
    "# Generate some data\n",
    "np.random.seed(1024)\n",
    "num_observations = 1024\n",
    "coefs = np.array([-1.2, 5, 0, .22, 2, 0, 4])  # notice, there are zeros!\n",
    "noise_amplitude = .05\n",
    "\n",
    "num_variables = coefs.shape[0]\n",
    "\n",
    "x = np.random.rand(num_observations, num_variables)\n",
    "y = np.dot(x, coefs) + noise_amplitude * np.random.rand(num_observations)\n",
    "\n",
    "cutoff = int(.8 * num_observations)\n",
    "x_train, x_test = x[:cutoff], x[cutoff:]\n",
    "y_train, y_test = y[:cutoff], y[cutoff:]"
   ]
  },
  {
   "cell_type": "code",
   "execution_count": 4,
   "metadata": {},
   "outputs": [
    {
     "data": {
      "text/plain": [
       "((819, 7), (819,))"
      ]
     },
     "execution_count": 4,
     "metadata": {},
     "output_type": "execute_result"
    }
   ],
   "source": [
    "x_train.shape, y_train.shape"
   ]
  },
  {
   "cell_type": "code",
   "execution_count": 5,
   "metadata": {},
   "outputs": [
    {
     "data": {
      "text/plain": [
       "0.00020867822075987393"
      ]
     },
     "execution_count": 5,
     "metadata": {},
     "output_type": "execute_result"
    }
   ],
   "source": [
    "\n",
    "# insert code to make predictions here\n",
    "lin_reg = LinearRegression()\n",
    "lin_reg.fit(x_train, y_train)\n",
    "lin_reg_predictions = lin_reg.predict(x_test)\n",
    "mean_squared_error(y_test, lin_reg_predictions)"
   ]
  },
  {
   "cell_type": "code",
   "execution_count": 6,
   "metadata": {},
   "outputs": [
    {
     "data": {
      "text/html": [
       "<div>\n",
       "<style scoped>\n",
       "    .dataframe tbody tr th:only-of-type {\n",
       "        vertical-align: middle;\n",
       "    }\n",
       "\n",
       "    .dataframe tbody tr th {\n",
       "        vertical-align: top;\n",
       "    }\n",
       "\n",
       "    .dataframe thead th {\n",
       "        text-align: right;\n",
       "    }\n",
       "</style>\n",
       "<table border=\"1\" class=\"dataframe\">\n",
       "  <thead>\n",
       "    <tr style=\"text-align: right;\">\n",
       "      <th></th>\n",
       "      <th>fit coefficients</th>\n",
       "      <th>real coefficients</th>\n",
       "    </tr>\n",
       "  </thead>\n",
       "  <tbody>\n",
       "    <tr>\n",
       "      <th>0</th>\n",
       "      <td>-1.200971</td>\n",
       "      <td>-1.20</td>\n",
       "    </tr>\n",
       "    <tr>\n",
       "      <th>1</th>\n",
       "      <td>4.999581</td>\n",
       "      <td>5.00</td>\n",
       "    </tr>\n",
       "    <tr>\n",
       "      <th>2</th>\n",
       "      <td>-0.001820</td>\n",
       "      <td>0.00</td>\n",
       "    </tr>\n",
       "    <tr>\n",
       "      <th>3</th>\n",
       "      <td>0.217426</td>\n",
       "      <td>0.22</td>\n",
       "    </tr>\n",
       "    <tr>\n",
       "      <th>4</th>\n",
       "      <td>1.999645</td>\n",
       "      <td>2.00</td>\n",
       "    </tr>\n",
       "    <tr>\n",
       "      <th>5</th>\n",
       "      <td>-0.000385</td>\n",
       "      <td>0.00</td>\n",
       "    </tr>\n",
       "    <tr>\n",
       "      <th>6</th>\n",
       "      <td>4.000916</td>\n",
       "      <td>4.00</td>\n",
       "    </tr>\n",
       "  </tbody>\n",
       "</table>\n",
       "</div>"
      ],
      "text/plain": [
       "   fit coefficients  real coefficients\n",
       "0         -1.200971              -1.20\n",
       "1          4.999581               5.00\n",
       "2         -0.001820               0.00\n",
       "3          0.217426               0.22\n",
       "4          1.999645               2.00\n",
       "5         -0.000385               0.00\n",
       "6          4.000916               4.00"
      ]
     },
     "execution_count": 6,
     "metadata": {},
     "output_type": "execute_result"
    }
   ],
   "source": [
    "# Show that the coefficients are all close the the \"real\" ones used to generate the data\n",
    "lin_reg_coefs = lin_reg.coef_\n",
    "pd.Series(lin_reg_coefs, name='fit coefficients').to_frame().join(pd.Series(coefs, name='real coefficients')) "
   ]
  },
  {
   "cell_type": "code",
   "execution_count": 7,
   "metadata": {},
   "outputs": [],
   "source": [
    "from IPython.display import SVG\n",
    "from keras.utils.vis_utils import model_to_dot\n",
    "\n",
    "def plot_model_in_notebook(model):\n",
    "    return SVG(model_to_dot(model, show_shapes=True).create(prog='dot', format='svg'))\n"
   ]
  },
  {
   "cell_type": "code",
   "execution_count": 8,
   "metadata": {},
   "outputs": [],
   "source": [
    "# Now we will use keras to solve the same problem \n",
    "K.clear_session()\n",
    "input_data = Input(shape=(x_train.shape[1],))\n",
    "output = Dense(1, activation='linear')(input_data)\n",
    "keras_lin_reg = Model(input_data, output)\n",
    "keras_lin_reg.compile(optimizer=RMSprop(lr=2e-3, decay=1e-5), loss='mse', metrics=['accuracy'])\n",
    "# don't forget to compile your model"
   ]
  },
  {
   "cell_type": "code",
   "execution_count": 9,
   "metadata": {},
   "outputs": [],
   "source": [
    "\n",
    "# plot_model_in_notebook(keras_lin_reg)  # to be removed "
   ]
  },
  {
   "cell_type": "markdown",
   "metadata": {},
   "source": [
    "## How many parameters does the model have? \n",
    "### Explicitly show the calculation, explain it, and verify that it agrees with `model.count_params()`"
   ]
  },
  {
   "cell_type": "code",
   "execution_count": 10,
   "metadata": {},
   "outputs": [
    {
     "data": {
      "text/plain": [
       "8"
      ]
     },
     "execution_count": 10,
     "metadata": {},
     "output_type": "execute_result"
    }
   ],
   "source": [
    "# ADD CODE HERE\n",
    "# 7 features plus one bias term -> 8 params\n",
    "keras_lin_reg.count_params()"
   ]
  },
  {
   "cell_type": "code",
   "execution_count": 11,
   "metadata": {},
   "outputs": [
    {
     "data": {
      "text/plain": [
       "0.00021129568948177705"
      ]
     },
     "execution_count": 11,
     "metadata": {},
     "output_type": "execute_result"
    }
   ],
   "source": [
    "keras_lin_reg.fit(x_train, y_train, epochs=1000, verbose=0) \n",
    "mean_squared_error(y_test, keras_lin_reg.predict(x_test))"
   ]
  },
  {
   "cell_type": "code",
   "execution_count": 12,
   "metadata": {},
   "outputs": [
    {
     "data": {
      "text/plain": [
       "array([[-1.2012897e+00],\n",
       "       [ 4.9990849e+00],\n",
       "       [-1.3780375e-03],\n",
       "       [ 2.1758522e-01],\n",
       "       [ 2.0002310e+00],\n",
       "       [-1.0209600e-03],\n",
       "       [ 4.0009909e+00]], dtype=float32)"
      ]
     },
     "execution_count": 12,
     "metadata": {},
     "output_type": "execute_result"
    }
   ],
   "source": [
    "keras_lin_reg.layers[1].get_weights()[0]"
   ]
  },
  {
   "cell_type": "code",
   "execution_count": 13,
   "metadata": {},
   "outputs": [
    {
     "data": {
      "text/html": [
       "<div>\n",
       "<style scoped>\n",
       "    .dataframe tbody tr th:only-of-type {\n",
       "        vertical-align: middle;\n",
       "    }\n",
       "\n",
       "    .dataframe tbody tr th {\n",
       "        vertical-align: top;\n",
       "    }\n",
       "\n",
       "    .dataframe thead th {\n",
       "        text-align: right;\n",
       "    }\n",
       "</style>\n",
       "<table border=\"1\" class=\"dataframe\">\n",
       "  <thead>\n",
       "    <tr style=\"text-align: right;\">\n",
       "      <th></th>\n",
       "      <th>keras ols coefficients</th>\n",
       "      <th>real coefficients</th>\n",
       "    </tr>\n",
       "  </thead>\n",
       "  <tbody>\n",
       "    <tr>\n",
       "      <th>0</th>\n",
       "      <td>-1.201290</td>\n",
       "      <td>-1.20</td>\n",
       "    </tr>\n",
       "    <tr>\n",
       "      <th>1</th>\n",
       "      <td>4.999085</td>\n",
       "      <td>5.00</td>\n",
       "    </tr>\n",
       "    <tr>\n",
       "      <th>2</th>\n",
       "      <td>-0.001378</td>\n",
       "      <td>0.00</td>\n",
       "    </tr>\n",
       "    <tr>\n",
       "      <th>3</th>\n",
       "      <td>0.217585</td>\n",
       "      <td>0.22</td>\n",
       "    </tr>\n",
       "    <tr>\n",
       "      <th>4</th>\n",
       "      <td>2.000231</td>\n",
       "      <td>2.00</td>\n",
       "    </tr>\n",
       "    <tr>\n",
       "      <th>5</th>\n",
       "      <td>-0.001021</td>\n",
       "      <td>0.00</td>\n",
       "    </tr>\n",
       "    <tr>\n",
       "      <th>6</th>\n",
       "      <td>4.000991</td>\n",
       "      <td>4.00</td>\n",
       "    </tr>\n",
       "  </tbody>\n",
       "</table>\n",
       "</div>"
      ],
      "text/plain": [
       "   keras ols coefficients  real coefficients\n",
       "0               -1.201290              -1.20\n",
       "1                4.999085               5.00\n",
       "2               -0.001378               0.00\n",
       "3                0.217585               0.22\n",
       "4                2.000231               2.00\n",
       "5               -0.001021               0.00\n",
       "6                4.000991               4.00"
      ]
     },
     "execution_count": 13,
     "metadata": {},
     "output_type": "execute_result"
    }
   ],
   "source": [
    "# find the coefficients\n",
    "keras_ols_coefs = keras_lin_reg.layers[1].get_weights()[0].flatten()\n",
    "\n",
    "pd.Series(keras_ols_coefs, name='keras ols coefficients').to_frame().join(pd.Series(coefs, name='real coefficients'))"
   ]
  },
  {
   "cell_type": "markdown",
   "metadata": {},
   "source": [
    "## Now we will add some regularization"
   ]
  },
  {
   "cell_type": "code",
   "execution_count": 14,
   "metadata": {},
   "outputs": [],
   "source": [
    "from keras.regularizers import l1_l2\n",
    "regularizer = l1_l2(l1=0, l2=.01)\n",
    "# Dense(...) -> Dense(..., kernel_regularizer=regularizer)\n",
    "    \n",
    "input_data = Input(shape=(x_train.shape[1],))\n",
    "output = Dense(1, activation='linear', kernel_regularizer=regularizer)(input_data)\n",
    "keras_ridge_model = Model(input_data, output)\n",
    "keras_ridge_model.compile(optimizer=RMSprop(lr=2e-3, decay=1e-5), loss='mse', metrics=['accuracy'])\n",
    "# don't forget to compile the model\n",
    "# plot_model_in_notebook(keras_ridge_model)  # to be removed"
   ]
  },
  {
   "cell_type": "code",
   "execution_count": 15,
   "metadata": {},
   "outputs": [
    {
     "data": {
      "text/plain": [
       "0.04331338001915001"
      ]
     },
     "execution_count": 15,
     "metadata": {},
     "output_type": "execute_result"
    }
   ],
   "source": [
    "keras_ridge_model.fit(x_train, y_train, epochs=1000, verbose=0, batch_size=256, shuffle=True)\n",
    "mean_squared_error(y_test, keras_ridge_model.predict(x_test))"
   ]
  },
  {
   "cell_type": "code",
   "execution_count": 16,
   "metadata": {},
   "outputs": [
    {
     "data": {
      "text/html": [
       "<div>\n",
       "<style scoped>\n",
       "    .dataframe tbody tr th:only-of-type {\n",
       "        vertical-align: middle;\n",
       "    }\n",
       "\n",
       "    .dataframe tbody tr th {\n",
       "        vertical-align: top;\n",
       "    }\n",
       "\n",
       "    .dataframe thead th {\n",
       "        text-align: right;\n",
       "    }\n",
       "</style>\n",
       "<table border=\"1\" class=\"dataframe\">\n",
       "  <thead>\n",
       "    <tr style=\"text-align: right;\">\n",
       "      <th></th>\n",
       "      <th>keras ridge coefficients</th>\n",
       "      <th>real coefficients</th>\n",
       "    </tr>\n",
       "  </thead>\n",
       "  <tbody>\n",
       "    <tr>\n",
       "      <th>0</th>\n",
       "      <td>-1.084287</td>\n",
       "      <td>-1.20</td>\n",
       "    </tr>\n",
       "    <tr>\n",
       "      <th>1</th>\n",
       "      <td>4.441785</td>\n",
       "      <td>5.00</td>\n",
       "    </tr>\n",
       "    <tr>\n",
       "      <th>2</th>\n",
       "      <td>0.001209</td>\n",
       "      <td>0.00</td>\n",
       "    </tr>\n",
       "    <tr>\n",
       "      <th>3</th>\n",
       "      <td>0.213727</td>\n",
       "      <td>0.22</td>\n",
       "    </tr>\n",
       "    <tr>\n",
       "      <th>4</th>\n",
       "      <td>1.793655</td>\n",
       "      <td>2.00</td>\n",
       "    </tr>\n",
       "    <tr>\n",
       "      <th>5</th>\n",
       "      <td>0.021952</td>\n",
       "      <td>0.00</td>\n",
       "    </tr>\n",
       "    <tr>\n",
       "      <th>6</th>\n",
       "      <td>3.589289</td>\n",
       "      <td>4.00</td>\n",
       "    </tr>\n",
       "  </tbody>\n",
       "</table>\n",
       "</div>"
      ],
      "text/plain": [
       "   keras ridge coefficients  real coefficients\n",
       "0                 -1.084287              -1.20\n",
       "1                  4.441785               5.00\n",
       "2                  0.001209               0.00\n",
       "3                  0.213727               0.22\n",
       "4                  1.793655               2.00\n",
       "5                  0.021952               0.00\n",
       "6                  3.589289               4.00"
      ]
     },
     "execution_count": 16,
     "metadata": {},
     "output_type": "execute_result"
    }
   ],
   "source": [
    "keras_ridge_coefs = keras_ridge_model.layers[1].get_weights()[0].flatten()\n",
    "pd.Series(keras_ridge_coefs, name='keras ridge coefficients').to_frame().join(pd.Series(coefs, name='real coefficients'))"
   ]
  },
  {
   "cell_type": "code",
   "execution_count": 18,
   "metadata": {},
   "outputs": [
    {
     "data": {
      "text/html": [
       "<div>\n",
       "<style scoped>\n",
       "    .dataframe tbody tr th:only-of-type {\n",
       "        vertical-align: middle;\n",
       "    }\n",
       "\n",
       "    .dataframe tbody tr th {\n",
       "        vertical-align: top;\n",
       "    }\n",
       "\n",
       "    .dataframe thead th {\n",
       "        text-align: right;\n",
       "    }\n",
       "</style>\n",
       "<table border=\"1\" class=\"dataframe\">\n",
       "  <thead>\n",
       "    <tr style=\"text-align: right;\">\n",
       "      <th></th>\n",
       "      <th>ridge coefficients</th>\n",
       "      <th>real coefficients</th>\n",
       "    </tr>\n",
       "  </thead>\n",
       "  <tbody>\n",
       "    <tr>\n",
       "      <th>0</th>\n",
       "      <td>-1.200810</td>\n",
       "      <td>-1.20</td>\n",
       "    </tr>\n",
       "    <tr>\n",
       "      <th>1</th>\n",
       "      <td>4.998812</td>\n",
       "      <td>5.00</td>\n",
       "    </tr>\n",
       "    <tr>\n",
       "      <th>2</th>\n",
       "      <td>-0.001810</td>\n",
       "      <td>0.00</td>\n",
       "    </tr>\n",
       "    <tr>\n",
       "      <th>3</th>\n",
       "      <td>0.217429</td>\n",
       "      <td>0.22</td>\n",
       "    </tr>\n",
       "    <tr>\n",
       "      <th>4</th>\n",
       "      <td>1.999360</td>\n",
       "      <td>2.00</td>\n",
       "    </tr>\n",
       "    <tr>\n",
       "      <th>5</th>\n",
       "      <td>-0.000350</td>\n",
       "      <td>0.00</td>\n",
       "    </tr>\n",
       "    <tr>\n",
       "      <th>6</th>\n",
       "      <td>4.000354</td>\n",
       "      <td>4.00</td>\n",
       "    </tr>\n",
       "  </tbody>\n",
       "</table>\n",
       "</div>"
      ],
      "text/plain": [
       "   ridge coefficients  real coefficients\n",
       "0           -1.200810              -1.20\n",
       "1            4.998812               5.00\n",
       "2           -0.001810               0.00\n",
       "3            0.217429               0.22\n",
       "4            1.999360               2.00\n",
       "5           -0.000350               0.00\n",
       "6            4.000354               4.00"
      ]
     },
     "execution_count": 18,
     "metadata": {},
     "output_type": "execute_result"
    }
   ],
   "source": [
    "# ridge regression in sklaern\n",
    "from sklearn.linear_model import Ridge\n",
    "\n",
    "sklearn_ridge_model = Ridge(alpha=0.01)\n",
    "sklearn_ridge_model.fit(x_train, y_train)\n",
    "sklearn_ridge_coefs = sklearn_ridge_model.coef_\n",
    "pd.Series(sklearn_ridge_coefs, name='ridge coefficients').to_frame().join(pd.Series(coefs, name='real coefficients'))"
   ]
  },
  {
   "cell_type": "code",
   "execution_count": 20,
   "metadata": {},
   "outputs": [
    {
     "data": {
      "text/html": [
       "<div>\n",
       "<style scoped>\n",
       "    .dataframe tbody tr th:only-of-type {\n",
       "        vertical-align: middle;\n",
       "    }\n",
       "\n",
       "    .dataframe tbody tr th {\n",
       "        vertical-align: top;\n",
       "    }\n",
       "\n",
       "    .dataframe thead th {\n",
       "        text-align: right;\n",
       "    }\n",
       "</style>\n",
       "<table border=\"1\" class=\"dataframe\">\n",
       "  <thead>\n",
       "    <tr style=\"text-align: right;\">\n",
       "      <th></th>\n",
       "      <th>ridge coefs</th>\n",
       "      <th>keras L2 coefs</th>\n",
       "      <th>real coefs</th>\n",
       "    </tr>\n",
       "  </thead>\n",
       "  <tbody>\n",
       "    <tr>\n",
       "      <th>0</th>\n",
       "      <td>-1.200810</td>\n",
       "      <td>-1.084287</td>\n",
       "      <td>-1.20</td>\n",
       "    </tr>\n",
       "    <tr>\n",
       "      <th>1</th>\n",
       "      <td>4.998812</td>\n",
       "      <td>4.441785</td>\n",
       "      <td>5.00</td>\n",
       "    </tr>\n",
       "    <tr>\n",
       "      <th>2</th>\n",
       "      <td>-0.001810</td>\n",
       "      <td>0.001209</td>\n",
       "      <td>0.00</td>\n",
       "    </tr>\n",
       "    <tr>\n",
       "      <th>3</th>\n",
       "      <td>0.217429</td>\n",
       "      <td>0.213727</td>\n",
       "      <td>0.22</td>\n",
       "    </tr>\n",
       "    <tr>\n",
       "      <th>4</th>\n",
       "      <td>1.999360</td>\n",
       "      <td>1.793655</td>\n",
       "      <td>2.00</td>\n",
       "    </tr>\n",
       "    <tr>\n",
       "      <th>5</th>\n",
       "      <td>-0.000350</td>\n",
       "      <td>0.021952</td>\n",
       "      <td>0.00</td>\n",
       "    </tr>\n",
       "    <tr>\n",
       "      <th>6</th>\n",
       "      <td>4.000354</td>\n",
       "      <td>3.589289</td>\n",
       "      <td>4.00</td>\n",
       "    </tr>\n",
       "  </tbody>\n",
       "</table>\n",
       "</div>"
      ],
      "text/plain": [
       "   ridge coefs  keras L2 coefs  real coefs\n",
       "0    -1.200810       -1.084287       -1.20\n",
       "1     4.998812        4.441785        5.00\n",
       "2    -0.001810        0.001209        0.00\n",
       "3     0.217429        0.213727        0.22\n",
       "4     1.999360        1.793655        2.00\n",
       "5    -0.000350        0.021952        0.00\n",
       "6     4.000354        3.589289        4.00"
      ]
     },
     "execution_count": 20,
     "metadata": {},
     "output_type": "execute_result"
    }
   ],
   "source": [
    "# compare coefficients from various methods\n",
    "pd.concat([\n",
    "    pd.Series(sklearn_ridge_coefs, name='ridge coefs'),\n",
    "    pd.Series(keras_ridge_coefs, name='keras L2 coefs'),\n",
    "    pd.Series(coefs, name='real coefs')\n",
    "], axis=1)"
   ]
  },
  {
   "cell_type": "code",
   "execution_count": null,
   "metadata": {},
   "outputs": [],
   "source": []
  },
  {
   "cell_type": "markdown",
   "metadata": {},
   "source": [
    "## In fact, given the zero coefficients, LASSO might have been a better model. \n",
    "## LASSO uses $L_{1}$ regularization which will make sparse coefficients (some are zero)."
   ]
  },
  {
   "cell_type": "code",
   "execution_count": 21,
   "metadata": {},
   "outputs": [
    {
     "data": {
      "text/html": [
       "<div>\n",
       "<style scoped>\n",
       "    .dataframe tbody tr th:only-of-type {\n",
       "        vertical-align: middle;\n",
       "    }\n",
       "\n",
       "    .dataframe tbody tr th {\n",
       "        vertical-align: top;\n",
       "    }\n",
       "\n",
       "    .dataframe thead th {\n",
       "        text-align: right;\n",
       "    }\n",
       "</style>\n",
       "<table border=\"1\" class=\"dataframe\">\n",
       "  <thead>\n",
       "    <tr style=\"text-align: right;\">\n",
       "      <th></th>\n",
       "      <th>lasso coefficients</th>\n",
       "      <th>real coefficients</th>\n",
       "    </tr>\n",
       "  </thead>\n",
       "  <tbody>\n",
       "    <tr>\n",
       "      <th>0</th>\n",
       "      <td>-1.088840</td>\n",
       "      <td>-1.20</td>\n",
       "    </tr>\n",
       "    <tr>\n",
       "      <th>1</th>\n",
       "      <td>4.871075</td>\n",
       "      <td>5.00</td>\n",
       "    </tr>\n",
       "    <tr>\n",
       "      <th>2</th>\n",
       "      <td>0.000000</td>\n",
       "      <td>0.00</td>\n",
       "    </tr>\n",
       "    <tr>\n",
       "      <th>3</th>\n",
       "      <td>0.107322</td>\n",
       "      <td>0.22</td>\n",
       "    </tr>\n",
       "    <tr>\n",
       "      <th>4</th>\n",
       "      <td>1.880817</td>\n",
       "      <td>2.00</td>\n",
       "    </tr>\n",
       "    <tr>\n",
       "      <th>5</th>\n",
       "      <td>-0.000000</td>\n",
       "      <td>0.00</td>\n",
       "    </tr>\n",
       "    <tr>\n",
       "      <th>6</th>\n",
       "      <td>3.897209</td>\n",
       "      <td>4.00</td>\n",
       "    </tr>\n",
       "  </tbody>\n",
       "</table>\n",
       "</div>"
      ],
      "text/plain": [
       "   lasso coefficients  real coefficients\n",
       "0           -1.088840              -1.20\n",
       "1            4.871075               5.00\n",
       "2            0.000000               0.00\n",
       "3            0.107322               0.22\n",
       "4            1.880817               2.00\n",
       "5           -0.000000               0.00\n",
       "6            3.897209               4.00"
      ]
     },
     "execution_count": 21,
     "metadata": {},
     "output_type": "execute_result"
    }
   ],
   "source": [
    "from sklearn.linear_model import Lasso\n",
    "# Add code here\n",
    "sklearn_lasso_model = Lasso(alpha=0.01)\n",
    "sklearn_lasso_model.fit(x_train, y_train)\n",
    "sklearn_lasso_coefs = sklearn_lasso_model.coef_\n",
    "pd.Series(sklearn_lasso_coefs, name='lasso coefficients').to_frame().join(pd.Series(coefs, name='real coefficients'))"
   ]
  },
  {
   "cell_type": "code",
   "execution_count": 22,
   "metadata": {},
   "outputs": [],
   "source": [
    "# now do lasso with keras\n",
    "regularizer = l1_l2(l1=0.01, l2=0)\n",
    "\n",
    "input_data= Input(shape=(x_train.shape[1],))\n",
    "output = Dense(1, activation='linear', kernel_regularizer=regularizer)(input_data)\n",
    "keras_lasso_model = Model(input_data, output)\n",
    "keras_lasso_model.compile(optimizer=RMSprop(lr=2e-3, decay=1e-5), loss='mse', metrics=['accuracy'])\n",
    "# don't forget to compile the model\n",
    "# plot_model_in_notebook(keras_lasso_model)"
   ]
  },
  {
   "cell_type": "code",
   "execution_count": 23,
   "metadata": {},
   "outputs": [],
   "source": [
    "keras_lasso_model.fit(x_train, y_train, epochs=1000, batch_size=256, verbose=False, shuffle=True)\n",
    "keras_lasso_coefs = keras_lasso_model.layers[1].get_weights()[0].flatten()"
   ]
  },
  {
   "cell_type": "code",
   "execution_count": 24,
   "metadata": {},
   "outputs": [
    {
     "data": {
      "text/html": [
       "<div>\n",
       "<style scoped>\n",
       "    .dataframe tbody tr th:only-of-type {\n",
       "        vertical-align: middle;\n",
       "    }\n",
       "\n",
       "    .dataframe tbody tr th {\n",
       "        vertical-align: top;\n",
       "    }\n",
       "\n",
       "    .dataframe thead th {\n",
       "        text-align: right;\n",
       "    }\n",
       "</style>\n",
       "<table border=\"1\" class=\"dataframe\">\n",
       "  <thead>\n",
       "    <tr style=\"text-align: right;\">\n",
       "      <th></th>\n",
       "      <th>ridge coefs</th>\n",
       "      <th>keras L2 coefs</th>\n",
       "      <th>lasso coefs</th>\n",
       "      <th>keras L1 coefs</th>\n",
       "      <th>ols coefs</th>\n",
       "      <th>real coefs</th>\n",
       "    </tr>\n",
       "  </thead>\n",
       "  <tbody>\n",
       "    <tr>\n",
       "      <th>0</th>\n",
       "      <td>-1.200810</td>\n",
       "      <td>-1.084287</td>\n",
       "      <td>-1.088840</td>\n",
       "      <td>-1.144882</td>\n",
       "      <td>-1.200971</td>\n",
       "      <td>-1.20</td>\n",
       "    </tr>\n",
       "    <tr>\n",
       "      <th>1</th>\n",
       "      <td>4.998812</td>\n",
       "      <td>4.441785</td>\n",
       "      <td>4.871075</td>\n",
       "      <td>4.935797</td>\n",
       "      <td>4.999581</td>\n",
       "      <td>5.00</td>\n",
       "    </tr>\n",
       "    <tr>\n",
       "      <th>2</th>\n",
       "      <td>-0.001810</td>\n",
       "      <td>0.001209</td>\n",
       "      <td>0.000000</td>\n",
       "      <td>0.001233</td>\n",
       "      <td>-0.001820</td>\n",
       "      <td>0.00</td>\n",
       "    </tr>\n",
       "    <tr>\n",
       "      <th>3</th>\n",
       "      <td>0.217429</td>\n",
       "      <td>0.213727</td>\n",
       "      <td>0.107322</td>\n",
       "      <td>0.162128</td>\n",
       "      <td>0.217426</td>\n",
       "      <td>0.22</td>\n",
       "    </tr>\n",
       "    <tr>\n",
       "      <th>4</th>\n",
       "      <td>1.999360</td>\n",
       "      <td>1.793655</td>\n",
       "      <td>1.880817</td>\n",
       "      <td>1.938848</td>\n",
       "      <td>1.999645</td>\n",
       "      <td>2.00</td>\n",
       "    </tr>\n",
       "    <tr>\n",
       "      <th>5</th>\n",
       "      <td>-0.000350</td>\n",
       "      <td>0.021952</td>\n",
       "      <td>-0.000000</td>\n",
       "      <td>-0.000774</td>\n",
       "      <td>-0.000385</td>\n",
       "      <td>0.00</td>\n",
       "    </tr>\n",
       "    <tr>\n",
       "      <th>6</th>\n",
       "      <td>4.000354</td>\n",
       "      <td>3.589289</td>\n",
       "      <td>3.897209</td>\n",
       "      <td>3.948188</td>\n",
       "      <td>4.000916</td>\n",
       "      <td>4.00</td>\n",
       "    </tr>\n",
       "  </tbody>\n",
       "</table>\n",
       "</div>"
      ],
      "text/plain": [
       "   ridge coefs  keras L2 coefs  lasso coefs  keras L1 coefs  ols coefs  \\\n",
       "0    -1.200810       -1.084287    -1.088840       -1.144882  -1.200971   \n",
       "1     4.998812        4.441785     4.871075        4.935797   4.999581   \n",
       "2    -0.001810        0.001209     0.000000        0.001233  -0.001820   \n",
       "3     0.217429        0.213727     0.107322        0.162128   0.217426   \n",
       "4     1.999360        1.793655     1.880817        1.938848   1.999645   \n",
       "5    -0.000350        0.021952    -0.000000       -0.000774  -0.000385   \n",
       "6     4.000354        3.589289     3.897209        3.948188   4.000916   \n",
       "\n",
       "   real coefs  \n",
       "0       -1.20  \n",
       "1        5.00  \n",
       "2        0.00  \n",
       "3        0.22  \n",
       "4        2.00  \n",
       "5        0.00  \n",
       "6        4.00  "
      ]
     },
     "execution_count": 24,
     "metadata": {},
     "output_type": "execute_result"
    }
   ],
   "source": [
    "# compare all the coefficients\n",
    "pd.concat([\n",
    "    pd.Series(sklearn_ridge_coefs, name='ridge coefs'),\n",
    "    pd.Series(keras_ridge_coefs, name='keras L2 coefs'),\n",
    "    pd.Series(sklearn_lasso_coefs, name='lasso coefs'),\n",
    "    pd.Series(keras_lasso_coefs, name='keras L1 coefs'),\n",
    "    pd.Series(lin_reg.coef_, name='ols coefs'),\n",
    "    pd.Series(coefs, name='real coefs'),\n",
    "], axis=1)"
   ]
  },
  {
   "cell_type": "code",
   "execution_count": 25,
   "metadata": {},
   "outputs": [],
   "source": [
    "# TODO(find optimal regularization paramter) ?"
   ]
  },
  {
   "cell_type": "code",
   "execution_count": 26,
   "metadata": {},
   "outputs": [
    {
     "data": {
      "image/png": "[encoded data removed]",
      "text/plain": [
       "<matplotlib.figure.Figure at 0x1a30e1f2e8>"
      ]
     },
     "metadata": {},
     "output_type": "display_data"
    },
    {
     "data": {
      "image/png": "[encoded data removed]",
      "text/plain": [
       "<matplotlib.figure.Figure at 0x1a30eb67b8>"
      ]
     },
     "metadata": {},
     "output_type": "display_data"
    }
   ],
   "source": [
    "# Iterate throught different reg alpha and observe results... \n",
    "# Looking at out of sample performance is a bit of look ahead.\n",
    "# Can uncomment to score using the squared diff of weights\n",
    "\n",
    "mse_out_sample_score = True  # Set to true to look at out of sample MSE\n",
    "\n",
    "res_df = pd.DataFrame()\n",
    "for l in np.linspace(1e-4, 0.1, 10):\n",
    "    lasso = Lasso(alpha=l).fit(x_train, y_train)#.coef_\n",
    "    ridge = Ridge(alpha=l).fit(x_train, y_train)#.coef_\n",
    "#     score_l = np.sum((lasso - coefs)**2)\n",
    "#     score_r = np.sum((ridge - coefs)**2)\n",
    "    if mse_out_sample_score:\n",
    "        score_l = mean_squared_error(y_test, lasso.predict(x_test))\n",
    "        score_r = mean_squared_error(y_test, ridge.predict(x_test))\n",
    "    else:\n",
    "        score_l = mean_squared_error(y_train, lasso.predict(x_train))\n",
    "        score_r = mean_squared_error(y_train, ridge.predict(x_train))\n",
    "    res_df.loc[l, \"Lasso\"] = score_l\n",
    "    res_df.loc[l, \"Ridge\"] = score_r\n",
    "    \n",
    "    \n",
    "\n",
    "res_df['Lasso'].plot(title=\"lasso\")\n",
    "plt.show()\n",
    "res_df['Ridge'].plot(title=\"ridge\")\n",
    "plt.show()"
   ]
  },
  {
   "cell_type": "code",
   "execution_count": 27,
   "metadata": {},
   "outputs": [],
   "source": [
    "# Regularization does not seem to improve results... Regular OLS could be the best model"
   ]
  },
  {
   "cell_type": "markdown",
   "metadata": {},
   "source": [
    "# Problem 3: Keras for harder mnist problems (40%)\n",
    "#### The deep net during lecture has a hard time distiguishing between 9 and 4.\n",
    "#### We will build an algorithm to do this binary classification task "
   ]
  },
  {
   "cell_type": "code",
   "execution_count": 195,
   "metadata": {},
   "outputs": [],
   "source": [
    "# safe to restart here"
   ]
  },
  {
   "cell_type": "code",
   "execution_count": 196,
   "metadata": {},
   "outputs": [
    {
     "name": "stdout",
     "output_type": "stream",
     "text": [
      "Populating the interactive namespace from numpy and matplotlib\n"
     ]
    }
   ],
   "source": [
    "import numpy as np\n",
    "import pandas as pd\n",
    "%pylab inline\n",
    "\n",
    "# many of these to be removed\n",
    "from keras.datasets import mnist\n",
    "from keras.models import Model, Input\n",
    "from keras.layers import Dense, Softmax, Dropout\n",
    "from keras.layers.advanced_activations import LeakyReLU\n",
    "from keras.regularizers import l1_l2\n",
    "from keras.optimizers import RMSprop\n",
    "import keras.backend as K"
   ]
  },
  {
   "cell_type": "code",
   "execution_count": 197,
   "metadata": {},
   "outputs": [
    {
     "name": "stdout",
     "output_type": "stream",
     "text": [
      "(9457, 784)\n"
     ]
    }
   ],
   "source": [
    "from keras.utils import to_categorical\n",
    "\n",
    "def preprocess_training_data(data):\n",
    "    data = data.reshape(data.shape[0], data.shape[1] * data.shape[2])\n",
    "    data = data.astype('float32') / 255\n",
    "    return data\n",
    "\n",
    "def preprocess_targets(target, num_classes):\n",
    "    return to_categorical(target, num_classes)\n",
    "\n",
    "\n",
    "def subset_to_9_and_4(x, y):  # this is a new function\n",
    "    mask = (y == 9) | (y == 4)\n",
    "    new_x = x[mask]\n",
    "    new_y = (y[mask] == 4).astype('int64')\n",
    "    return new_x, new_y\n",
    "\n",
    "(x_train, y_train), (x_test, y_test) = mnist.load_data()\n",
    "\n",
    "x_train = preprocess_training_data(x_train)\n",
    "x_test = preprocess_training_data(x_test)\n",
    "\n",
    "num_classes = np.unique(y_train).shape[0]\n",
    "\n",
    "y_train_ohe = preprocess_targets(y_train, num_classes)\n",
    "y_test_ohe = preprocess_targets(y_test, num_classes)\n",
    "\n",
    "train_frac = 0.8\n",
    "cutoff = int(x_train.shape[0] * train_frac)\n",
    "x_train, x_val = x_train[:cutoff], x_train[cutoff:]\n",
    "y_train, y_val = y_train[:cutoff], y_train[cutoff:]\n",
    "y_train_ohe, y_val_ohe = y_train_ohe[:cutoff], y_train_ohe[cutoff:]\n",
    "\n",
    "x_train, y_train = subset_to_9_and_4(x_train, y_train)\n",
    "x_val, y_val = subset_to_9_and_4(x_val, y_val)\n",
    "x_test, y_test = subset_to_9_and_4(x_test, y_test)\n",
    "\n",
    "print(x_train.shape)"
   ]
  },
  {
   "cell_type": "code",
   "execution_count": 198,
   "metadata": {},
   "outputs": [
    {
     "data": {
      "text/plain": [
       "0.9728779507785033"
      ]
     },
     "execution_count": 198,
     "metadata": {},
     "output_type": "execute_result"
    }
   ],
   "source": [
    "# first try logistic regression\n",
    "\n",
    "from sklearn.linear_model import LogisticRegression\n",
    "from sklearn.metrics import accuracy_score\n",
    "# Add code here\n",
    "\n",
    "sklearn_lr_model = LogisticRegression()\n",
    "sklearn_lr_model.fit(x_train, y_train)\n",
    "\n",
    "sklearn_lr_predictions = sklearn_lr_model.predict(x_test)\n",
    "accuracy_score(y_test, sklearn_lr_predictions)"
   ]
  },
  {
   "cell_type": "code",
   "execution_count": null,
   "metadata": {},
   "outputs": [],
   "source": []
  },
  {
   "cell_type": "code",
   "execution_count": 199,
   "metadata": {},
   "outputs": [],
   "source": [
    "from IPython.display import SVG\n",
    "from keras.utils.vis_utils import model_to_dot\n",
    "\n",
    "def plot_model_in_notebook(model):\n",
    "    return SVG(model_to_dot(model, show_shapes=True).create(prog='dot', format='svg'))\n"
   ]
  },
  {
   "cell_type": "code",
   "execution_count": 270,
   "metadata": {},
   "outputs": [
    {
     "name": "stderr",
     "output_type": "stream",
     "text": [
      "/Users/Hugo/anaconda3/envs/personal/lib/python3.6/site-packages/keras/activations.py:211: UserWarning: Do not pass a layer instance (such as LeakyReLU) as the activation argument of another layer. Instead, advanced activation layers should be used just like any other layer in a model.\n",
      "  identifier=identifier.__class__.__name__))\n"
     ]
    }
   ],
   "source": [
    "K.clear_session()\n",
    "num_hidden_units = 512  \n",
    "digit_input = Input(shape=(x_train.shape[1],))\n",
    "x = Dense(num_hidden_units, activation=LeakyReLU(0.1))(digit_input)\n",
    "# x = Dropout(rate=0.2, seed=42)(x)\n",
    "output = Dense(1, activation=\"sigmoid\")(x)\n",
    "model = Model(digit_input, output)\n",
    "\n",
    "#NB: you probably want BINARY cross entropy i.e. 'binary_crossentropy' for the loss function\n",
    "model.compile(optimizer=RMSprop(lr=2e-3, decay=1e-5), loss='binary_crossentropy', metrics=['accuracy'])"
   ]
  },
  {
   "cell_type": "code",
   "execution_count": 271,
   "metadata": {},
   "outputs": [],
   "source": [
    "# plot_model_in_notebook(model)"
   ]
  },
  {
   "cell_type": "code",
   "execution_count": 272,
   "metadata": {},
   "outputs": [
    {
     "name": "stdout",
     "output_type": "stream",
     "text": [
      "402432\n"
     ]
    },
    {
     "data": {
      "text/plain": [
       "402433"
      ]
     },
     "execution_count": 272,
     "metadata": {},
     "output_type": "execute_result"
    }
   ],
   "source": [
    "# how many params does the model have? \n",
    "print(784 * 512 + 512 + 512 *1)\n",
    "model.count_params()"
   ]
  },
  {
   "cell_type": "code",
   "execution_count": 273,
   "metadata": {},
   "outputs": [
    {
     "data": {
      "image/png": "[encoded data removed]",
      "text/plain": [
       "<matplotlib.figure.Figure at 0x1a39199c50>"
      ]
     },
     "metadata": {},
     "output_type": "display_data"
    },
    {
     "data": {
      "image/png": "[encoded data removed]",
      "text/plain": [
       "<matplotlib.figure.Figure at 0x1a390c7c18>"
      ]
     },
     "metadata": {},
     "output_type": "display_data"
    }
   ],
   "source": [
    "# Add code here\n",
    "model.fit(x_train, y_train, validation_data=(x_val, y_val), epochs=100, batch_size=128, shuffle=True, verbose=0)\n",
    "\n",
    "pd.DataFrame(model.history.history)[['val_loss', 'loss']].plot()\n",
    "pd.DataFrame(model.history.history)[['val_acc', 'acc']].plot()\n",
    "\n",
    "keras_predictions = model.predict(x_test)"
   ]
  },
  {
   "cell_type": "code",
   "execution_count": 274,
   "metadata": {},
   "outputs": [],
   "source": [
    "# Mapping continuous probability to a label\n",
    "keras_predictions[keras_predictions <= 0.5]  = 0\n",
    "keras_predictions[keras_predictions > 0.5]  = 1"
   ]
  },
  {
   "cell_type": "code",
   "execution_count": 275,
   "metadata": {},
   "outputs": [
    {
     "data": {
      "text/plain": [
       "0.9904570567553993"
      ]
     },
     "execution_count": 275,
     "metadata": {},
     "output_type": "execute_result"
    }
   ],
   "source": [
    "from sklearn.metrics import f1_score, accuracy_score\n",
    "accuracy_score(y_test, keras_predictions)"
   ]
  },
  {
   "cell_type": "code",
   "execution_count": null,
   "metadata": {},
   "outputs": [],
   "source": [
    "# DONE! Congrats!"
   ]
  },
  {
   "cell_type": "code",
   "execution_count": null,
   "metadata": {},
   "outputs": [],
   "source": []
  }
 ],
 "metadata": {
  "kernelspec": {
   "display_name": "Python 3",
   "language": "python",
   "name": "python3"
  },
  "language_info": {
   "codemirror_mode": {
    "name": "ipython",
    "version": 3
   },
   "file_extension": ".py",
   "mimetype": "text/x-python",
   "name": "python",
   "nbconvert_exporter": "python",
   "pygments_lexer": "ipython3",
   "version": "3.6.4"
  }
 },
 "nbformat": 4,
 "nbformat_minor": 2
}
