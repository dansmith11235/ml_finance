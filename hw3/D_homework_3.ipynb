{
 "cells": [
  {
   "cell_type": "markdown",
   "metadata": {},
   "source": [
    "# Problem 1: counting parameters (30%):\n",
    "## Count the parameters for the following three network configurations. \n",
    "## Please show & clearly explain how you arrive at the numbers (not just use count_params())"
   ]
  },
  {
   "cell_type": "code",
   "execution_count": 16,
   "metadata": {},
   "outputs": [],
   "source": [
    "from keras.models import Model, Sequential\n",
    "from keras.layers import (Input, Embedding, Dropout, Dense,\n",
    "GlobalAveragePooling1D, Flatten, LSTM, SimpleRNN, Bidirectional)\n",
    "from keras.initializers import Constant\n",
    "import keras.backend as K\n",
    "\n",
    "\n",
    "\n",
    "MAX_SEQ_LEN = 512\n",
    "MAX_WORDS = 50000\n",
    "EMBEDDING_DIM = 50"
   ]
  },
  {
   "cell_type": "code",
   "execution_count": 12,
   "metadata": {
    "scrolled": true
   },
   "outputs": [
    {
     "name": "stdout",
     "output_type": "stream",
     "text": [
      "_________________________________________________________________\n",
      "Layer (type)                 Output Shape              Param #   \n",
      "=================================================================\n",
      "input_6 (InputLayer)         (None, 512)               0         \n",
      "_________________________________________________________________\n",
      "embedding_6 (Embedding)      (None, 512, 50)           2500000   \n",
      "_________________________________________________________________\n",
      "lstm_4 (LSTM)                (None, 64)                29440     \n",
      "_________________________________________________________________\n",
      "dense_7 (Dense)              (None, 32)                2080      \n",
      "_________________________________________________________________\n",
      "dropout_4 (Dropout)          (None, 32)                0         \n",
      "_________________________________________________________________\n",
      "dense_8 (Dense)              (None, 10)                330       \n",
      "=================================================================\n",
      "Total params: 2,531,850\n",
      "Trainable params: 2,531,850\n",
      "Non-trainable params: 0\n",
      "_________________________________________________________________\n"
     ]
    }
   ],
   "source": [
    "\n",
    "\n",
    "\n",
    "# Network 1\n",
    "word_input = Input(\n",
    "    shape=(MAX_SEQ_LEN,), \n",
    "    dtype='int32'\n",
    ")\n",
    "hidden_state = Embedding(\n",
    "    MAX_WORDS, \n",
    "    EMBEDDING_DIM, \n",
    "    input_length=MAX_SEQ_LEN\n",
    ")(word_input)\n",
    "hidden_state = LSTM(\n",
    "    64, dropout=0.2)(hidden_state)\n",
    "hidden_state = Dense(32)(hidden_state)\n",
    "hidden_state = Dropout(0.2)(hidden_state)\n",
    "output = Dense(10, activation='softmax')(hidden_state)\n",
    "model = Model(word_input, output)\n",
    "model.compile(\n",
    "    optimizer='rmsprop', \n",
    "    loss='categorical_crossentropy', \n",
    "    metrics=['accuracy']\n",
    ")\n",
    "model.count_params()\n",
    "\n",
    "model.summary()\n",
    "\n"
   ]
  },
  {
   "cell_type": "markdown",
   "metadata": {},
   "source": [
    "Embeddig: 50 * 50000 = 2500000\n",
    "LSTM: 4*(50*64+64^2+64) = 29440\n",
    "Dense: 64*32+32=2080\n",
    "Dense: 32*10+10=330\n",
    "Total: 2,531,850"
   ]
  },
  {
   "cell_type": "code",
   "execution_count": 14,
   "metadata": {},
   "outputs": [
    {
     "name": "stdout",
     "output_type": "stream",
     "text": [
      "_________________________________________________________________\n",
      "Layer (type)                 Output Shape              Param #   \n",
      "=================================================================\n",
      "input_8 (InputLayer)         (None, 512)               0         \n",
      "_________________________________________________________________\n",
      "embedding_8 (Embedding)      (None, 512, 50)           2500000   \n",
      "_________________________________________________________________\n",
      "simple_rnn_2 (SimpleRNN)     (None, 512, 64)           7360      \n",
      "_________________________________________________________________\n",
      "lstm_6 (LSTM)                (None, 64)                33024     \n",
      "_________________________________________________________________\n",
      "dense_10 (Dense)             (None, 1)                 65        \n",
      "=================================================================\n",
      "Total params: 2,540,449\n",
      "Trainable params: 2,540,449\n",
      "Non-trainable params: 0\n",
      "_________________________________________________________________\n"
     ]
    }
   ],
   "source": [
    "\n",
    "\n",
    "# Network 2\n",
    "word_input = Input(\n",
    "    shape=(MAX_SEQ_LEN,), \n",
    "    dtype='int32'\n",
    ")\n",
    "hidden_state = Embedding(\n",
    "    MAX_WORDS, \n",
    "    EMBEDDING_DIM, \n",
    "    input_length=MAX_SEQ_LEN\n",
    ")(word_input)\n",
    "\n",
    "hidden_state = SimpleRNN(\n",
    "    64, \n",
    "    return_sequences=True\n",
    ")(hidden_state)\n",
    "\n",
    "hidden_state = LSTM(\n",
    "    64, \n",
    "    recurrent_dropout=0.2\n",
    ")(hidden_state)\n",
    "\n",
    "output = Dense(1, activation='sigmoid')(hidden_state)\n",
    "model = Model(word_input, output)\n",
    "model.compile(\n",
    "    optimizer='rmsprop', \n",
    "    loss='binary_crossentropy', \n",
    "    metrics=['accuracy']\n",
    ")\n",
    "model.count_params()\n",
    "model.summary()"
   ]
  },
  {
   "cell_type": "markdown",
   "metadata": {},
   "source": [
    "Emedding : 50*50000=2500000\n",
    "RNN: 50*64+64+64^2 = 7360\n",
    "LSTM: 4*(64*64+64^2+64) = 33024\n",
    "Dense: 64*1+1=65\n",
    "Total: 2,540,449"
   ]
  },
  {
   "cell_type": "code",
   "execution_count": 17,
   "metadata": {},
   "outputs": [
    {
     "name": "stdout",
     "output_type": "stream",
     "text": [
      "_________________________________________________________________\n",
      "Layer (type)                 Output Shape              Param #   \n",
      "=================================================================\n",
      "input_10 (InputLayer)        (None, 512)               0         \n",
      "_________________________________________________________________\n",
      "embedding_10 (Embedding)     (None, 512, 50)           2500000   \n",
      "_________________________________________________________________\n",
      "lstm_9 (LSTM)                (None, 512, 64)           29440     \n",
      "_________________________________________________________________\n",
      "lstm_10 (LSTM)               (None, 512, 64)           33024     \n",
      "_________________________________________________________________\n",
      "bidirectional_1 (Bidirection (None, 128)               66048     \n",
      "_________________________________________________________________\n",
      "dense_11 (Dense)             (None, 1)                 129       \n",
      "=================================================================\n",
      "Total params: 2,628,641\n",
      "Trainable params: 2,628,641\n",
      "Non-trainable params: 0\n",
      "_________________________________________________________________\n"
     ]
    }
   ],
   "source": [
    "# Network 3\n",
    "word_input = Input(\n",
    "    shape=(MAX_SEQ_LEN,), \n",
    "    dtype='int32'\n",
    ")\n",
    "hidden_state = Embedding(\n",
    "    MAX_WORDS, \n",
    "    EMBEDDING_DIM, \n",
    "    input_length=MAX_SEQ_LEN\n",
    ")(word_input)\n",
    "\n",
    "hidden_state = LSTM(\n",
    "    64, \n",
    "    return_sequences=True\n",
    ")(hidden_state)\n",
    "\n",
    "hidden_state = LSTM(\n",
    "    64, \n",
    "    return_sequences=True\n",
    ")(hidden_state)\n",
    "\n",
    "\n",
    "hidden_state = Bidirectional(LSTM(\n",
    "    64, \n",
    "    recurrent_dropout=0.2\n",
    "))(hidden_state)\n",
    "\n",
    "output = Dense(1, activation='sigmoid')(hidden_state)\n",
    "\n",
    "model = Model(word_input, output)\n",
    "model.compile(\n",
    "    optimizer='rmsprop', \n",
    "    loss='binary_crossentropy', \n",
    "    metrics=['accuracy']\n",
    ")\n",
    "model.count_params()\n",
    "model.summary()"
   ]
  },
  {
   "cell_type": "markdown",
   "metadata": {},
   "source": [
    "embedding: 50*50000=2,500,000\n",
    "LSTM: 4*(50*64+64^2+64) = 29440\n",
    "LSTM: 4*(64*64+64^2+64) = 333024\n",
    "Bidirectional: 2*4*(50*64+64^2+64) = 66048\n",
    "Dense: 128*1+1=129\n",
    "Total: 2,628,641"
   ]
  },
  {
   "cell_type": "code",
   "execution_count": null,
   "metadata": {},
   "outputs": [],
   "source": []
  },
  {
   "cell_type": "markdown",
   "metadata": {},
   "source": [
    "# Problem 2: Many Ways to Solve the Same Problem (35%)\n",
    "### ... and the limits of deep learning...\n",
    "\n",
    "## We saw three ways to solve the IMDB problem:\n",
    " - flatten the sequence and send to a dense network\n",
    " - a (bidirectional) LSTM to get sequence information\n",
    " - being \"clever\" with the features we use (FastText)\n",
    " \n",
    "\n",
    "# We want to try to combine these \n"
   ]
  },
  {
   "cell_type": "code",
   "execution_count": null,
   "metadata": {},
   "outputs": [],
   "source": []
  },
  {
   "cell_type": "markdown",
   "metadata": {},
   "source": [
    "## Part 0: Prep"
   ]
  },
  {
   "cell_type": "code",
   "execution_count": 18,
   "metadata": {},
   "outputs": [
    {
     "name": "stdout",
     "output_type": "stream",
     "text": [
      "Populating the interactive namespace from numpy and matplotlib\n"
     ]
    }
   ],
   "source": [
    "import numpy as np\n",
    "import pandas as pd\n",
    "%pylab inline\n",
    "\n",
    "np.random.seed(\n",
    "    abs(hash('mit') // (2 ** 32 -1))\n",
    ")\n",
    "\n",
    "from keras.datasets import imdb\n",
    "from keras.preprocessing.sequence import pad_sequences\n",
    "\n",
    "from keras.layers import (\n",
    "    SimpleRNN, Dense, LSTM,\n",
    "    Embedding, Input, Dropout,\n",
    "    Concatenate\n",
    ")\n",
    "from keras.models import Model\n",
    "import keras.backend as K\n"
   ]
  },
  {
   "cell_type": "code",
   "execution_count": 108,
   "metadata": {},
   "outputs": [],
   "source": [
    "INDEX_FROM = 3   # word index offset\n",
    "MAX_WORDS = 50000\n",
    "MAX_SEQ_LEN = 500\n",
    "EMBEDDING_DIM = 50\n",
    "NUM_HIDDEN_RNN = 64\n",
    "\n",
    "\n",
    "((int_sequences_train, y_train), \n",
    " (int_sequences_test, y_test)) = imdb.load_data(\n",
    "    num_words=MAX_WORDS, \n",
    "    index_from=INDEX_FROM\n",
    ")\n",
    "\n",
    "# Some word magic\n",
    "word_to_id = imdb.get_word_index()\n",
    "word_to_id = {k:(v + INDEX_FROM) for k,v in word_to_id.items()}\n",
    "word_to_id[\"<PAD>\"] = 0\n",
    "word_to_id[\"<START>\"] = 1\n",
    "word_to_id[\"<UNK>\"] = 2\n",
    "\n",
    "id_to_word = {value:key for key,value in word_to_id.items()}\n",
    "\n",
    "\n",
    "\n",
    "\n",
    "((int_sequences_train, y_train), \n",
    " (int_sequences_test, y_test)) = imdb.load_data(\n",
    "    num_words=MAX_WORDS\n",
    ")"
   ]
  },
  {
   "cell_type": "code",
   "execution_count": 109,
   "metadata": {},
   "outputs": [],
   "source": [
    "GLOVE_FILE = '/home/dan/MFin/MLfin/glove.6B.50d.txt'  # FIXME "
   ]
  },
  {
   "cell_type": "code",
   "execution_count": 110,
   "metadata": {},
   "outputs": [],
   "source": [
    "def load_glove_file(filepath):\n",
    "    word_to_vector = {}\n",
    "    with open(filepath) as f:\n",
    "        for line in f:\n",
    "            values = line.split()\n",
    "            word = values[0]\n",
    "            vector = np.asarray(values[1:], dtype='float32')\n",
    "            word_to_vector[word] = vector\n",
    "    return word_to_vector\n",
    "\n",
    "word_vecs = load_glove_file(GLOVE_FILE)\n",
    "\n",
    "embedding_matrix = np.zeros((MAX_WORDS, EMBEDDING_DIM))\n",
    "for  i, word in id_to_word.items():\n",
    "    if i >= MAX_WORDS:\n",
    "        continue\n",
    "    embedding_vector = word_vecs.get(word)\n",
    "    if embedding_vector is not None:\n",
    "        # words not found in embedding index will be all-zeros.\n",
    "        embedding_matrix[i] = embedding_vector"
   ]
  },
  {
   "cell_type": "code",
   "execution_count": null,
   "metadata": {},
   "outputs": [],
   "source": []
  },
  {
   "cell_type": "markdown",
   "metadata": {},
   "source": [
    "## Part 1: Solve the problem with the \"Fasttext\" method"
   ]
  },
  {
   "cell_type": "code",
   "execution_count": 27,
   "metadata": {},
   "outputs": [],
   "source": [
    "def create_ngram_set(input_list, ngram_value=2):\n",
    "    \"\"\"\n",
    "    Extract a set of n-grams from a list of integers.\n",
    "    >>> create_ngram_set([1, 4, 9, 4, 1, 4], ngram_value=2)\n",
    "    {(4, 9), (4, 1), (1, 4), (9, 4)}\n",
    "    >>> create_ngram_set([1, 4, 9, 4, 1, 4], ngram_value=3)\n",
    "    [(1, 4, 9), (4, 9, 4), (9, 4, 1), (4, 1, 4)]\n",
    "    \"\"\"\n",
    "    return set(zip(*[input_list[i:] for i in range(ngram_value)]))\n",
    "\n",
    "\n",
    "def add_ngram(sequences, token_indices, ngram_range=2):\n",
    "    \"\"\"\n",
    "    Augment the input list of list (sequences) by appending n-grams values.\n",
    "    Example: adding bi-gram\n",
    "    >>> sequences = [[1, 3, 4, 5], [1, 3, 7, 9, 2]]\n",
    "    >>> token_indice = {(1, 3): 1337, (9, 2): 42, (4, 5): 2017}\n",
    "    >>> add_ngram(sequences, token_indice, ngram_range=2)\n",
    "    [[1, 3, 4, 5, 1337, 2017], [1, 3, 7, 9, 2, 1337, 42]]\n",
    "    Example: adding tri-gram\n",
    "    >>> sequences = [[1, 3, 4, 5], [1, 3, 7, 9, 2]]\n",
    "    >>> token_indice = {(1, 3): 1337, (9, 2): 42, (4, 5): 2017, (7, 9, 2): 2018}\n",
    "    >>> add_ngram(sequences, token_indice, ngram_range=3)\n",
    "    [[1, 3, 4, 5, 1337, 2017], [1, 3, 7, 9, 2, 1337, 42, 2018]]\n",
    "    \"\"\"\n",
    "    new_sequences = []\n",
    "    for input_list in sequences:\n",
    "        new_list = input_list[:]\n",
    "        for ngram_value in range(2, ngram_range + 1):\n",
    "            for i in range(len(new_list) - ngram_value + 1):\n",
    "                ngram = tuple(new_list[i:i + ngram_value])\n",
    "                if ngram in token_indices:\n",
    "                    new_list.append(token_indices[ngram])\n",
    "        new_sequences.append(new_list)\n",
    "\n",
    "    return new_sequences\n"
   ]
  },
  {
   "cell_type": "code",
   "execution_count": 64,
   "metadata": {},
   "outputs": [
    {
     "data": {
      "text/plain": [
       "25000"
      ]
     },
     "execution_count": 64,
     "metadata": {},
     "output_type": "execute_result"
    }
   ],
   "source": []
  },
  {
   "cell_type": "code",
   "execution_count": 66,
   "metadata": {},
   "outputs": [],
   "source": [
    "NGRAM_RANGE = 2\n",
    "MAX_WORDS_FT = 5000\n",
    "\n",
    "ft_sequences_train = int_sequences_train[:]  # makes a copy\n",
    "ft_sequences_test = int_sequences_test[:]  # makes a copy\n",
    "\n",
    "# TODO(filter ft_sequences to only elements that are less than MAX_WORDS_FT)\n",
    "# YOUR CODE HERE\n",
    "arr=[]\n",
    "for i in range(size(ft_sequences_train)):\n",
    "        if size(ft_sequences_train[i])<MAX_WORDS_FT:\n",
    "            arr.extend([i])\n",
    "            \n",
    "            \n",
    "ft_sequences_train = ft_sequences_train[arr]            \n",
    "  \n",
    "arr=[]\n",
    "for i in range(size(ft_sequences_test)):\n",
    "        if size(ft_sequences_test[i])<MAX_WORDS_FT:\n",
    "            arr.extend([i])\n",
    "            \n",
    "ft_sequences_test = ft_sequences_test[arr]    \n",
    "\n",
    "    \n",
    "    \n",
    "\n",
    "if NGRAM_RANGE > 1:\n",
    "    # Create set of unique n-gram from the training set.\n",
    "    ngram_set = set()\n",
    "    for input_list in ft_sequences_train:\n",
    "        for i in range(2, NGRAM_RANGE + 1):\n",
    "            set_of_ngram = create_ngram_set(input_list, ngram_value=i)\n",
    "            ngram_set.update(set_of_ngram)\n",
    "\n",
    "    # Dictionary mapping n-gram token to a unique integer.\n",
    "    # Integer values are greater than max_features in order\n",
    "    # to avoid collision with existing features.\n",
    "    start_index = MAX_WORDS_FT + 1\n",
    "    token_indices = {v: k + start_index for k, v in enumerate(ngram_set)}\n",
    "    indices_token = {token_indices[k]: k for k in token_indices}\n",
    "\n",
    "    # max_features is the highest integer that could be found in the dataset.\n",
    "    MAX_FEATURES_FASTTEXT = np.max(list(indices_token.keys())) + 1\n",
    "\n",
    "    # Augmenting x_train and x_test with n-grams features\n",
    "    ft_sequences_train = add_ngram(ft_sequences_train, token_indices, NGRAM_RANGE)\n",
    "    ft_sequences_test = add_ngram(ft_sequences_test, token_indices, NGRAM_RANGE)\n"
   ]
  },
  {
   "cell_type": "code",
   "execution_count": 67,
   "metadata": {},
   "outputs": [],
   "source": [
    "# TODO: pad the sequences\n",
    "# YOUR CODE HERE\n",
    "\n",
    "ft_sequences_train = pad_sequences(\n",
    "    ft_sequences_train, maxlen=MAX_SEQ_LEN)\n",
    "\n",
    "ft_sequences_test = pad_sequences(\n",
    "    ft_sequences_test, maxlen=MAX_SEQ_LEN)"
   ]
  },
  {
   "cell_type": "code",
   "execution_count": 186,
   "metadata": {},
   "outputs": [],
   "source": [
    "from keras.initializers import Constant\n",
    "from keras.layers import Flatten, GlobalAveragePooling1D, AveragePooling1D"
   ]
  },
  {
   "cell_type": "code",
   "execution_count": 105,
   "metadata": {},
   "outputs": [],
   "source": [
    "K.clear_session()\n",
    "\n",
    "fastext_word_input = Input(\n",
    "    shape=(MAX_SEQ_LEN,),\n",
    "    dtype='int32'\n",
    ")\n",
    "embedded_fasttext = Embedding(\n",
    "    MAX_FEATURES_FASTTEXT, \n",
    "    EMBEDDING_DIM,\n",
    "    input_length=MAX_SEQ_LEN,\n",
    ")(fastext_word_input)\n",
    "\n",
    "fastext_hidden = GlobalAveragePooling1D()(embedded_fasttext)\n",
    "output = Dense(1, activation='sigmoid')(fastext_hidden)\n",
    "model = Model(fastext_word_input, output)\n",
    "\n",
    "model.compile(\n",
    "    optimizer='rmsprop', \n",
    "    loss='binary_crossentropy', \n",
    "    metrics=['accuracy']\n",
    ")\n"
   ]
  },
  {
   "cell_type": "code",
   "execution_count": 71,
   "metadata": {},
   "outputs": [
    {
     "name": "stdout",
     "output_type": "stream",
     "text": [
      "Train on 20000 samples, validate on 5000 samples\n",
      "Epoch 1/8\n",
      "20000/20000 [==============================] - 273s 14ms/step - loss: 0.6799 - acc: 0.7366 - val_loss: 0.6618 - val_acc: 0.7902\n",
      "Epoch 2/8\n",
      "20000/20000 [==============================] - 134s 7ms/step - loss: 0.6305 - acc: 0.8330 - val_loss: 0.6099 - val_acc: 0.8130\n",
      "Epoch 3/8\n",
      "20000/20000 [==============================] - 131s 7ms/step - loss: 0.5613 - acc: 0.8649 - val_loss: 0.5495 - val_acc: 0.8346\n",
      "Epoch 4/8\n",
      "20000/20000 [==============================] - 122s 6ms/step - loss: 0.4855 - acc: 0.8886 - val_loss: 0.4892 - val_acc: 0.8522\n",
      "Epoch 5/8\n",
      "20000/20000 [==============================] - 129s 6ms/step - loss: 0.4124 - acc: 0.9047 - val_loss: 0.4354 - val_acc: 0.8630\n",
      "Epoch 6/8\n",
      "20000/20000 [==============================] - 137s 7ms/step - loss: 0.3477 - acc: 0.9190 - val_loss: 0.3903 - val_acc: 0.8724\n",
      "Epoch 7/8\n",
      "20000/20000 [==============================] - 138s 7ms/step - loss: 0.2928 - acc: 0.9308 - val_loss: 0.3543 - val_acc: 0.8798\n",
      "Epoch 8/8\n",
      "20000/20000 [==============================] - 124s 6ms/step - loss: 0.2473 - acc: 0.9418 - val_loss: 0.3259 - val_acc: 0.8876\n"
     ]
    },
    {
     "data": {
      "text/plain": [
       "<keras.callbacks.History at 0x7f52da01a828>"
      ]
     },
     "execution_count": 71,
     "metadata": {},
     "output_type": "execute_result"
    }
   ],
   "source": [
    "# ~40s epoch\n",
    "model.fit(\n",
    "    ft_sequences_train,\n",
    "    y_train, \n",
    "    epochs=8, \n",
    "    batch_size=128, \n",
    "    validation_split=0.2\n",
    ")"
   ]
  },
  {
   "cell_type": "code",
   "execution_count": 72,
   "metadata": {},
   "outputs": [
    {
     "data": {
      "text/plain": [
       "<matplotlib.text.Text at 0x7f52d15fae10>"
      ]
     },
     "execution_count": 72,
     "metadata": {},
     "output_type": "execute_result"
    },
    {
     "data": {
      "image/png": "[encoded data removed]",
      "text/plain": [
       "<matplotlib.figure.Figure at 0x7f52ca93f128>"
      ]
     },
     "metadata": {},
     "output_type": "display_data"
    }
   ],
   "source": [
    "from sklearn.metrics import accuracy_score\n",
    "pd.DataFrame(model.history.history)[['acc', 'val_acc']].plot(\n",
    "    figsize=(16,9), fontsize=16, style='o', markersize=16\n",
    ")\n",
    "plt.legend(fontsize=16)\n",
    "plt.xlabel('epoch', fontsize=16)\n",
    "\n",
    "\n",
    "preds_ft = model.predict(ft_sequences_test).squeeze()\n",
    "test_acc_ft = accuracy_score(y_test, (preds_ft > 0.5).astype(int))\n",
    "plt.title('test accuracy = {:.3f}'.format(test_acc_ft), fontsize=20)"
   ]
  },
  {
   "cell_type": "code",
   "execution_count": 88,
   "metadata": {},
   "outputs": [
    {
     "data": {
      "text/plain": [
       "(500,)"
      ]
     },
     "execution_count": 88,
     "metadata": {},
     "output_type": "execute_result"
    }
   ],
   "source": []
  },
  {
   "cell_type": "markdown",
   "metadata": {},
   "source": [
    "## Part 2: Solve the problem with an LSTM"
   ]
  },
  {
   "cell_type": "code",
   "execution_count": 134,
   "metadata": {},
   "outputs": [
    {
     "name": "stdout",
     "output_type": "stream",
     "text": [
      "_________________________________________________________________\n",
      "Layer (type)                 Output Shape              Param #   \n",
      "=================================================================\n",
      "input_1 (InputLayer)         (None, 500)               0         \n",
      "_________________________________________________________________\n",
      "embedding_1 (Embedding)      (None, 500, 50)           2500000   \n",
      "_________________________________________________________________\n",
      "lstm_1 (LSTM)                (None, 64)                29440     \n",
      "_________________________________________________________________\n",
      "dense_1 (Dense)              (None, 32)                2080      \n",
      "_________________________________________________________________\n",
      "dense_2 (Dense)              (None, 1)                 33        \n",
      "=================================================================\n",
      "Total params: 2,531,553\n",
      "Trainable params: 31,553\n",
      "Non-trainable params: 2,500,000\n",
      "_________________________________________________________________\n"
     ]
    }
   ],
   "source": [
    "K.clear_session()\n",
    "\n",
    "((int_sequences_train, y_train), \n",
    " (int_sequences_test, y_test)) = imdb.load_data(num_words=MAX_WORDS)\n",
    "\n",
    "int_sequences_train = pad_sequences(\n",
    "    int_sequences_train, maxlen=MAX_SEQ_LEN)\n",
    "int_sequences_test = pad_sequences(\n",
    "    int_sequences_test, maxlen=MAX_SEQ_LEN)\n",
    "\n",
    "\n",
    "single_word_input = Input(shape=(MAX_SEQ_LEN,), \n",
    "                   dtype='int32')\n",
    "\n",
    "# TODO: \n",
    "# make a non-trainable embedding\n",
    "# make a single layer lstm\n",
    "# make a single neuron dense layer\n",
    "\n",
    "# Network 1\n",
    "hidden_state = Embedding(\n",
    "    MAX_WORDS, \n",
    "    EMBEDDING_DIM, \n",
    "    input_length=MAX_SEQ_LEN,weights=[embedding_matrix]\n",
    ",trainable=False)(single_word_input)\n",
    "\n",
    "hidden_state = LSTM(\n",
    "    64, dropout=0.2)(hidden_state)\n",
    "\n",
    "hidden_state = Dense(32)(hidden_state)\n",
    "\n",
    "output = Dense(1, activation='sigmoid')(hidden_state)\n",
    "\n",
    "model = Model(single_word_input, output)\n",
    "\n",
    "model.compile(\n",
    "    optimizer='rmsprop', \n",
    "    loss='binary_crossentropy', \n",
    "    metrics=['accuracy']\n",
    ")\n",
    "model.count_params()\n",
    "\n",
    "model.summary()\n",
    "\n",
    "\n",
    "\n",
    "# your code here\n",
    "# don't forget to compile the model\n",
    "\n"
   ]
  },
  {
   "cell_type": "code",
   "execution_count": 116,
   "metadata": {},
   "outputs": [
    {
     "name": "stdout",
     "output_type": "stream",
     "text": [
      "Train on 20000 samples, validate on 5000 samples\n",
      "Epoch 1/10\n",
      "20000/20000 [==============================] - 90s 4ms/step - loss: 0.6873 - acc: 0.5436 - val_loss: 0.6766 - val_acc: 0.5720\n",
      "Epoch 2/10\n",
      "20000/20000 [==============================] - 90s 4ms/step - loss: 0.6745 - acc: 0.5871 - val_loss: 0.6654 - val_acc: 0.5992\n",
      "Epoch 3/10\n",
      "20000/20000 [==============================] - 92s 5ms/step - loss: 0.6685 - acc: 0.5917 - val_loss: 0.6641 - val_acc: 0.5904\n",
      "Epoch 4/10\n",
      "20000/20000 [==============================] - 92s 5ms/step - loss: 0.6643 - acc: 0.5982 - val_loss: 0.6627 - val_acc: 0.5928\n",
      "Epoch 5/10\n",
      "20000/20000 [==============================] - 92s 5ms/step - loss: 0.6646 - acc: 0.6055 - val_loss: 0.6504 - val_acc: 0.6224\n",
      "Epoch 6/10\n",
      "20000/20000 [==============================] - 91s 5ms/step - loss: 0.6548 - acc: 0.6128 - val_loss: 0.6971 - val_acc: 0.5726\n",
      "Epoch 7/10\n",
      "20000/20000 [==============================] - 91s 5ms/step - loss: 0.6565 - acc: 0.6135 - val_loss: 0.6590 - val_acc: 0.6102\n",
      "Epoch 8/10\n",
      "20000/20000 [==============================] - 92s 5ms/step - loss: 0.6523 - acc: 0.6184 - val_loss: 0.7194 - val_acc: 0.6198\n",
      "Epoch 9/10\n",
      "20000/20000 [==============================] - 92s 5ms/step - loss: 0.6515 - acc: 0.6202 - val_loss: 0.6412 - val_acc: 0.6282\n",
      "Epoch 10/10\n",
      "20000/20000 [==============================] - 92s 5ms/step - loss: 0.6489 - acc: 0.6187 - val_loss: 0.6306 - val_acc: 0.6452\n"
     ]
    },
    {
     "data": {
      "text/plain": [
       "<keras.callbacks.History at 0x7f52ca6959b0>"
      ]
     },
     "execution_count": 116,
     "metadata": {},
     "output_type": "execute_result"
    }
   ],
   "source": [
    "# ~60s / epoch\n",
    "model.fit(\n",
    "    int_sequences_train,\n",
    "    y_train, \n",
    "    epochs=10, \n",
    "    batch_size=128, \n",
    "    validation_split=0.2\n",
    ")"
   ]
  },
  {
   "cell_type": "code",
   "execution_count": 133,
   "metadata": {},
   "outputs": [
    {
     "data": {
      "text/plain": [
       "<matplotlib.text.Text at 0x7f50e0ff7128>"
      ]
     },
     "execution_count": 133,
     "metadata": {},
     "output_type": "execute_result"
    },
    {
     "data": {
      "image/png": "[encoded data removed]",
      "text/plain": [
       "<matplotlib.figure.Figure at 0x7f50fb5cf978>"
      ]
     },
     "metadata": {},
     "output_type": "display_data"
    }
   ],
   "source": [
    "pd.DataFrame(model.history.history)[['acc', 'val_acc']].plot(\n",
    "    figsize=(16,9), fontsize=16, style='o', markersize=16\n",
    ")\n",
    "plt.legend(fontsize=16)\n",
    "plt.xlabel('epoch', fontsize=16)\n",
    "\n",
    "\n",
    "preds_rnn = model.predict(int_sequences_test).squeeze()\n",
    "test_acc_rnn = accuracy_score(y_test, (preds_rnn > 0.5).astype(int))\n",
    "plt.title('test accuracy = {:.3f}'.format(test_acc_rnn), fontsize=20)"
   ]
  },
  {
   "cell_type": "code",
   "execution_count": null,
   "metadata": {},
   "outputs": [],
   "source": []
  },
  {
   "cell_type": "markdown",
   "metadata": {},
   "source": [
    "## Part 3: Solve the problem by flattening the sequence"
   ]
  },
  {
   "cell_type": "code",
   "execution_count": 112,
   "metadata": {
    "scrolled": true
   },
   "outputs": [
    {
     "name": "stdout",
     "output_type": "stream",
     "text": [
      "_________________________________________________________________\n",
      "Layer (type)                 Output Shape              Param #   \n",
      "=================================================================\n",
      "input_1 (InputLayer)         (None, 500)               0         \n",
      "_________________________________________________________________\n",
      "embedding_1 (Embedding)      (None, 500, 50)           2500000   \n",
      "_________________________________________________________________\n",
      "flatten_1 (Flatten)          (None, 25000)             0         \n",
      "_________________________________________________________________\n",
      "dropout_1 (Dropout)          (None, 25000)             0         \n",
      "_________________________________________________________________\n",
      "dense_1 (Dense)              (None, 32)                800032    \n",
      "_________________________________________________________________\n",
      "dropout_2 (Dropout)          (None, 32)                0         \n",
      "_________________________________________________________________\n",
      "dense_2 (Dense)              (None, 1)                 33        \n",
      "=================================================================\n",
      "Total params: 3,300,065\n",
      "Trainable params: 800,065\n",
      "Non-trainable params: 2,500,000\n",
      "_________________________________________________________________\n"
     ]
    }
   ],
   "source": [
    "K.clear_session()\n",
    "\n",
    "((int_sequences_train, y_train), \n",
    " (int_sequences_test, y_test)) = imdb.load_data(num_words=MAX_WORDS)\n",
    "int_sequences_train = pad_sequences(\n",
    "    int_sequences_train, maxlen=MAX_SEQ_LEN)\n",
    "int_sequences_test = pad_sequences(\n",
    "    int_sequences_test, maxlen=MAX_SEQ_LEN)\n",
    "\n",
    "\n",
    "single_word_input = Input(shape=(MAX_SEQ_LEN,), \n",
    "                   dtype='int32')\n",
    "\n",
    "# TODO\n",
    "# make a non-trainable embedding\n",
    "# flatten the sequence\n",
    "# add some dorpout\n",
    "# add a dense layer\n",
    "# add dropout\n",
    "# add a dense layer with one neuron\n",
    "hidden_state = Embedding(\n",
    "    MAX_WORDS, \n",
    "    EMBEDDING_DIM, \n",
    "    input_length=MAX_SEQ_LEN,weights=[embedding_matrix]\n",
    ",trainable=False)(single_word_input)\n",
    "hidden_state = Flatten()(hidden_state)\n",
    "hidden_state = Dropout(0.1)(hidden_state)\n",
    "hidden_state = Dense(32, activation='relu')(hidden_state)\n",
    "hidden_state = Dropout(0.1)(hidden_state)\n",
    "output = Dense(1, activation='sigmoid')(hidden_state)\n",
    "\n",
    "model = Model(single_word_input, output)\n",
    "\n",
    "model.compile(\n",
    "    optimizer='rmsprop', \n",
    "    loss='binary_crossentropy', \n",
    "    metrics=['accuracy']\n",
    ")\n",
    "model.count_params()\n",
    "\n",
    "model.summary()\n",
    "\n",
    "\n",
    "\n",
    "# your code here\n",
    "# don't forget to compile the model\n",
    "\n"
   ]
  },
  {
   "cell_type": "code",
   "execution_count": 113,
   "metadata": {},
   "outputs": [
    {
     "name": "stdout",
     "output_type": "stream",
     "text": [
      "Train on 20000 samples, validate on 5000 samples\n",
      "Epoch 1/8\n",
      "20000/20000 [==============================] - 7s 362us/step - loss: 0.6687 - acc: 0.6239 - val_loss: 0.5849 - val_acc: 0.6890\n",
      "Epoch 2/8\n",
      "20000/20000 [==============================] - 7s 348us/step - loss: 0.5434 - acc: 0.7272 - val_loss: 0.5893 - val_acc: 0.6986\n",
      "Epoch 3/8\n",
      "20000/20000 [==============================] - 7s 361us/step - loss: 0.4720 - acc: 0.7728 - val_loss: 0.5747 - val_acc: 0.7118\n",
      "Epoch 4/8\n",
      "20000/20000 [==============================] - 7s 339us/step - loss: 0.4224 - acc: 0.8042 - val_loss: 0.5687 - val_acc: 0.7156\n",
      "Epoch 5/8\n",
      "20000/20000 [==============================] - 8s 387us/step - loss: 0.3734 - acc: 0.8309 - val_loss: 0.6201 - val_acc: 0.6950\n",
      "Epoch 6/8\n",
      "20000/20000 [==============================] - 8s 377us/step - loss: 0.3294 - acc: 0.8497 - val_loss: 0.6251 - val_acc: 0.7046\n",
      "Epoch 7/8\n",
      "20000/20000 [==============================] - 7s 366us/step - loss: 0.2911 - acc: 0.8687 - val_loss: 0.7557 - val_acc: 0.7058\n",
      "Epoch 8/8\n",
      "20000/20000 [==============================] - 8s 382us/step - loss: 0.2637 - acc: 0.8848 - val_loss: 0.7274 - val_acc: 0.6922\n"
     ]
    },
    {
     "data": {
      "text/plain": [
       "<keras.callbacks.History at 0x7f52d974ae10>"
      ]
     },
     "execution_count": 113,
     "metadata": {},
     "output_type": "execute_result"
    }
   ],
   "source": [
    "model.fit(\n",
    "    int_sequences_train,\n",
    "    y_train, \n",
    "    epochs=8, \n",
    "    batch_size=128, \n",
    "    validation_split=0.2\n",
    ")"
   ]
  },
  {
   "cell_type": "code",
   "execution_count": 114,
   "metadata": {},
   "outputs": [
    {
     "data": {
      "text/plain": [
       "<matplotlib.text.Text at 0x7f52c17a71d0>"
      ]
     },
     "execution_count": 114,
     "metadata": {},
     "output_type": "execute_result"
    },
    {
     "data": {
      "image/png": "[encoded data removed]",
      "text/plain": [
       "<matplotlib.figure.Figure at 0x7f52ca6a7080>"
      ]
     },
     "metadata": {},
     "output_type": "display_data"
    }
   ],
   "source": [
    "pd.DataFrame(model.history.history)[['acc', 'val_acc']].plot(\n",
    "    figsize=(16,9), fontsize=16, style='o', markersize=16\n",
    ")\n",
    "plt.legend(fontsize=16)\n",
    "plt.xlabel('epoch', fontsize=16)\n",
    "\n",
    "\n",
    "preds_flat = model.predict(int_sequences_test).squeeze()\n",
    "test_acc_flat = accuracy_score(y_test, (preds_flat > 0.5).astype(int))\n",
    "plt.title('test accuracy = {:.3f}'.format(test_acc_flat), fontsize=20)"
   ]
  },
  {
   "cell_type": "code",
   "execution_count": 135,
   "metadata": {},
   "outputs": [
    {
     "data": {
      "text/plain": [
       "0.54292756"
      ]
     },
     "execution_count": 135,
     "metadata": {},
     "output_type": "execute_result"
    }
   ],
   "source": []
  },
  {
   "cell_type": "markdown",
   "metadata": {},
   "source": [
    "# Part 4: Bagging\n",
    "## Improving with bagging\n",
    "In ML there is a common technique to __bag__ multiple estimators togther. \n",
    "\n",
    "The basic idea is to reduce variance by average together multiple estimators that should have\n",
    "different kinds of errors. \n",
    "\n",
    "NB: A random forest is a bagging estimator\n",
    "\n",
    "### Learning weights\n",
    " - We can learn weights for the various estimators (we have enough data to do this).\n",
    " - We'll do it on the test data, which is technically cheating\n",
    "\n"
   ]
  },
  {
   "cell_type": "code",
   "execution_count": 177,
   "metadata": {},
   "outputs": [
    {
     "name": "stdout",
     "output_type": "stream",
     "text": [
      "new accuracy 0.886\n"
     ]
    }
   ],
   "source": [
    "from sklearn.linear_model import LogisticRegression\n",
    "# TODO\n",
    "# - concatenate the test-set predictions from each method\n",
    "#      it should be a lenght-of-test-data x 3 vector\n",
    "# - fit a 3-feature logistic regression to the data\n",
    "# - print the test_set accuacy\n",
    "\n",
    "test_pred_cat = np.matrix((preds_ft,preds_rnn,preds_flat)).T\n",
    "\n",
    "#shape(test_pred_cat)\n",
    "\n",
    "\n",
    "# your code here...\n",
    "\n",
    "lr = LogisticRegression().fit(test_pred_cat,y_test)\n",
    "\n",
    "new_preds= lr.predict(test_pred_cat)\n",
    "\n",
    "# your code here...\n",
    "\n",
    "print('new accuracy {:.3f}'.format(accuracy_score(y_test, new_preds)))"
   ]
  },
  {
   "cell_type": "code",
   "execution_count": 178,
   "metadata": {},
   "outputs": [
    {
     "data": {
      "text/plain": [
       "array([[ 9.72971148, -1.27310727, -0.35618825]])"
      ]
     },
     "execution_count": 178,
     "metadata": {},
     "output_type": "execute_result"
    }
   ],
   "source": [
    "# print the coefficients\n",
    "# your code here...\n",
    "lr.coef_"
   ]
  },
  {
   "cell_type": "markdown",
   "metadata": {},
   "source": [
    "### You can also just guess hard_coded weights based on performance"
   ]
  },
  {
   "cell_type": "code",
   "execution_count": 179,
   "metadata": {},
   "outputs": [],
   "source": [
    "wt_flat = 1\n",
    "wt_rnn = 2\n",
    "wt_ft = 12\n",
    "\n",
    "total_wt = (wt_flat + wt_ft + wt_flat)"
   ]
  },
  {
   "cell_type": "code",
   "execution_count": 180,
   "metadata": {},
   "outputs": [
    {
     "name": "stdout",
     "output_type": "stream",
     "text": [
      "test accuracy = 0.8787\n"
     ]
    }
   ],
   "source": [
    "# TODO\n",
    "# - make a weighted average of all the predictions\n",
    "# - calculate the test accuracy\n",
    "\n",
    "\n",
    "test_pred_cat[:,0] *=  wt_ft/total_wt\n",
    "\n",
    "test_pred_cat[:,1] *=  wt_rnn/total_wt\n",
    "\n",
    "test_pred_cat[:,2] *=  wt_flat/total_wt\n",
    "\n",
    "new_preds = np.round(np.sum(test_pred_cat,axis=1))\n",
    "\n",
    "test_acc_voted = accuracy_score(y_test, new_preds)\n",
    "\n",
    "\n",
    "\n",
    "# your code here\n",
    "\n",
    "print('test accuracy = {:.4f}'.format(test_acc_voted))"
   ]
  },
  {
   "cell_type": "code",
   "execution_count": null,
   "metadata": {},
   "outputs": [],
   "source": []
  },
  {
   "cell_type": "code",
   "execution_count": null,
   "metadata": {},
   "outputs": [],
   "source": []
  },
  {
   "cell_type": "markdown",
   "metadata": {},
   "source": [
    "# Part 5: combine them with neural nets\n",
    "## Our goal is to construct a a neural network with two inputs and one output:\n",
    "### Inputs\n",
    " - Embedded glove words, untrainable, for the RNN and the flattening\n",
    " - The fastext bigrams\n",
    "### Output:\n",
    " - the usual `0/1` for the IMDB task\n",
    " \n",
    "### Newtork: \n",
    " - make a single LSTM on the word vectors\n",
    " - flatten the ORIGINAL word-vector sequence and have it go through a single dense layer\n",
    "    - add dropout appropriately\n",
    " - average the fasttext input over all the words\n",
    "\n",
    "This will make 3 different sets of features. You should\n",
    " - concatenate them\n",
    " - add some dropout\n",
    " - send the merged output to a single-neuron dense layer.\n",
    " \n",
    "# $ \\\\ $\n",
    "# Network\n",
    "```\n",
    "int-input-sequence   fastext-input sequence\n",
    "     |                      |\n",
    " embedding                embedding\n",
    " (non-trainable)          (trainabile)\n",
    " |                           |\n",
    " |\\                          |    \n",
    " | \\                         |\n",
    " |  \\                  Average over words\n",
    " |   \\                       |\n",
    " |    \\                      |\n",
    " |     \\                     |\n",
    " Flatt  LSTM                 |\n",
    " |        |                  |\n",
    " Drop     |                 /\n",
    " |        |                /\n",
    " Dense    |               /\n",
    " |         \\             /\n",
    " Drop       \\           /\n",
    " |           \\         /\n",
    " ######################\n",
    " ####### concat #######\n",
    " ######################\n",
    "          |\n",
    "         Drop\n",
    "          |\n",
    "        Dense(1)\n",
    "\n",
    "```"
   ]
  },
  {
   "cell_type": "code",
   "execution_count": null,
   "metadata": {},
   "outputs": [],
   "source": []
  },
  {
   "cell_type": "code",
   "execution_count": null,
   "metadata": {},
   "outputs": [],
   "source": []
  },
  {
   "cell_type": "code",
   "execution_count": 209,
   "metadata": {},
   "outputs": [],
   "source": [
    "K.clear_session()\n",
    "\n",
    "((int_sequences_train, y_train), \n",
    " (int_sequences_test, y_test)) = imdb.load_data(num_words=MAX_WORDS)\n",
    "int_sequences_train = pad_sequences(\n",
    "    int_sequences_train, maxlen=MAX_SEQ_LEN)\n",
    "int_sequences_test = pad_sequences(\n",
    "    int_sequences_test, maxlen=MAX_SEQ_LEN)\n",
    "\n",
    "\n",
    "single_word_input = Input(shape=(MAX_SEQ_LEN,), \n",
    "                   dtype='int32')\n",
    "\n",
    "# TODO\n",
    "# make a non-trainable embedding\n",
    "# flatten the sequence\n",
    "# add some dorpout\n",
    "# add a dense layer\n",
    "# add dropout\n",
    "# add a dense layer with one neuron\n",
    "hidden_state = Embedding(\n",
    "    MAX_WORDS, \n",
    "    EMBEDDING_DIM, \n",
    "    input_length=MAX_SEQ_LEN,weights=[embedding_matrix]\n",
    ",trainable=False)(single_word_input)\n",
    "\n",
    "hidden_state_flat = Flatten()(hidden_state)\n",
    "hidden_state_flat = Dropout(0.1)(hidden_state_flat)\n",
    "hidden_state_flat = Dense(32, activation='relu')(hidden_state_flat)\n",
    "hidden_state_flat= Dropout(0.1)(hidden_state_flat)\n",
    "\n",
    "\n",
    "\n",
    "hidden_state_LSTM = LSTM(\n",
    "    64, dropout=0.2)(hidden_state)\n",
    "\n",
    "\n",
    "\n",
    "\n",
    "# #FAST_TEXT\n",
    "fastext_word_input = Input(\n",
    "    shape=(MAX_SEQ_LEN,),\n",
    "    dtype='int32'\n",
    ")\n",
    "embedded_fasttext = Embedding(\n",
    "    MAX_FEATURES_FASTTEXT, \n",
    "    EMBEDDING_DIM,\n",
    "    input_length=MAX_SEQ_LEN,\n",
    ")(fastext_word_input)\n",
    "\n",
    "hidden_fasttext = GlobalAveragePooling1D()(embedded_fasttext)\n",
    "\n",
    "\n",
    "\n",
    "\n",
    "all_states = Concatenate()([\n",
    "    hidden_state_flat, hidden_state_LSTM,hidden_fasttext\n",
    "])\n",
    "\n",
    "all_states = Dropout(0.2)(all_states)\n",
    "\n",
    "output = Dense(\n",
    "    1, activation='sigmoid'\n",
    ")(all_states)\n",
    "\n",
    "\n",
    "model = Model(inputs=[single_word_input,fastext_word_input], outputs=output)\n",
    "\n",
    "model.compile(\n",
    "    optimizer='rmsprop', \n",
    "    loss='binary_crossentropy', \n",
    "    metrics=['accuracy']\n",
    ")\n",
    "\n",
    "\n",
    "\n",
    "\n",
    "\n",
    "\n",
    "\n"
   ]
  },
  {
   "cell_type": "code",
   "execution_count": 210,
   "metadata": {},
   "outputs": [
    {
     "ename": "ImportError",
     "evalue": "Failed to import `pydot`. Please install `pydot`. For example with `pip install pydot`.",
     "output_type": "error",
     "traceback": [
      "\u001b[0;31m---------------------------------------------------------------------------\u001b[0m",
      "\u001b[0;31mImportError\u001b[0m                               Traceback (most recent call last)",
      "\u001b[0;32m<ipython-input-210-3e50fef66c9c>\u001b[0m in \u001b[0;36m<module>\u001b[0;34m()\u001b[0m\n\u001b[1;32m      5\u001b[0m     \u001b[0;32mreturn\u001b[0m \u001b[0mSVG\u001b[0m\u001b[0;34m(\u001b[0m\u001b[0mmodel_to_dot\u001b[0m\u001b[0;34m(\u001b[0m\u001b[0mmodel\u001b[0m\u001b[0;34m,\u001b[0m \u001b[0mshow_shapes\u001b[0m\u001b[0;34m=\u001b[0m\u001b[0;32mTrue\u001b[0m\u001b[0;34m)\u001b[0m\u001b[0;34m.\u001b[0m\u001b[0mcreate\u001b[0m\u001b[0;34m(\u001b[0m\u001b[0mprog\u001b[0m\u001b[0;34m=\u001b[0m\u001b[0;34m'dot'\u001b[0m\u001b[0;34m,\u001b[0m \u001b[0mformat\u001b[0m\u001b[0;34m=\u001b[0m\u001b[0;34m'svg'\u001b[0m\u001b[0;34m)\u001b[0m\u001b[0;34m)\u001b[0m\u001b[0;34m\u001b[0m\u001b[0m\n\u001b[1;32m      6\u001b[0m \u001b[0;34m\u001b[0m\u001b[0m\n\u001b[0;32m----> 7\u001b[0;31m \u001b[0mplot_model_in_notebook\u001b[0m\u001b[0;34m(\u001b[0m\u001b[0mmodel\u001b[0m\u001b[0;34m)\u001b[0m\u001b[0;34m\u001b[0m\u001b[0m\n\u001b[0m",
      "\u001b[0;32m<ipython-input-210-3e50fef66c9c>\u001b[0m in \u001b[0;36mplot_model_in_notebook\u001b[0;34m(model)\u001b[0m\n\u001b[1;32m      3\u001b[0m \u001b[0;34m\u001b[0m\u001b[0m\n\u001b[1;32m      4\u001b[0m \u001b[0;32mdef\u001b[0m \u001b[0mplot_model_in_notebook\u001b[0m\u001b[0;34m(\u001b[0m\u001b[0mmodel\u001b[0m\u001b[0;34m)\u001b[0m\u001b[0;34m:\u001b[0m\u001b[0;34m\u001b[0m\u001b[0m\n\u001b[0;32m----> 5\u001b[0;31m     \u001b[0;32mreturn\u001b[0m \u001b[0mSVG\u001b[0m\u001b[0;34m(\u001b[0m\u001b[0mmodel_to_dot\u001b[0m\u001b[0;34m(\u001b[0m\u001b[0mmodel\u001b[0m\u001b[0;34m,\u001b[0m \u001b[0mshow_shapes\u001b[0m\u001b[0;34m=\u001b[0m\u001b[0;32mTrue\u001b[0m\u001b[0;34m)\u001b[0m\u001b[0;34m.\u001b[0m\u001b[0mcreate\u001b[0m\u001b[0;34m(\u001b[0m\u001b[0mprog\u001b[0m\u001b[0;34m=\u001b[0m\u001b[0;34m'dot'\u001b[0m\u001b[0;34m,\u001b[0m \u001b[0mformat\u001b[0m\u001b[0;34m=\u001b[0m\u001b[0;34m'svg'\u001b[0m\u001b[0;34m)\u001b[0m\u001b[0;34m)\u001b[0m\u001b[0;34m\u001b[0m\u001b[0m\n\u001b[0m\u001b[1;32m      6\u001b[0m \u001b[0;34m\u001b[0m\u001b[0m\n\u001b[1;32m      7\u001b[0m \u001b[0mplot_model_in_notebook\u001b[0m\u001b[0;34m(\u001b[0m\u001b[0mmodel\u001b[0m\u001b[0;34m)\u001b[0m\u001b[0;34m\u001b[0m\u001b[0m\n",
      "\u001b[0;32m~/anaconda3/lib/python3.5/site-packages/keras/utils/vis_utils.py\u001b[0m in \u001b[0;36mmodel_to_dot\u001b[0;34m(model, show_shapes, show_layer_names, rankdir)\u001b[0m\n\u001b[1;32m     53\u001b[0m     \u001b[0;32mfrom\u001b[0m \u001b[0;34m.\u001b[0m\u001b[0;34m.\u001b[0m\u001b[0mmodels\u001b[0m \u001b[0;32mimport\u001b[0m \u001b[0mSequential\u001b[0m\u001b[0;34m\u001b[0m\u001b[0m\n\u001b[1;32m     54\u001b[0m \u001b[0;34m\u001b[0m\u001b[0m\n\u001b[0;32m---> 55\u001b[0;31m     \u001b[0m_check_pydot\u001b[0m\u001b[0;34m(\u001b[0m\u001b[0;34m)\u001b[0m\u001b[0;34m\u001b[0m\u001b[0m\n\u001b[0m\u001b[1;32m     56\u001b[0m     \u001b[0mdot\u001b[0m \u001b[0;34m=\u001b[0m \u001b[0mpydot\u001b[0m\u001b[0;34m.\u001b[0m\u001b[0mDot\u001b[0m\u001b[0;34m(\u001b[0m\u001b[0;34m)\u001b[0m\u001b[0;34m\u001b[0m\u001b[0m\n\u001b[1;32m     57\u001b[0m     \u001b[0mdot\u001b[0m\u001b[0;34m.\u001b[0m\u001b[0mset\u001b[0m\u001b[0;34m(\u001b[0m\u001b[0;34m'rankdir'\u001b[0m\u001b[0;34m,\u001b[0m \u001b[0mrankdir\u001b[0m\u001b[0;34m)\u001b[0m\u001b[0;34m\u001b[0m\u001b[0m\n",
      "\u001b[0;32m~/anaconda3/lib/python3.5/site-packages/keras/utils/vis_utils.py\u001b[0m in \u001b[0;36m_check_pydot\u001b[0;34m()\u001b[0m\n\u001b[1;32m     18\u001b[0m     \u001b[0;32mif\u001b[0m \u001b[0mpydot\u001b[0m \u001b[0;32mis\u001b[0m \u001b[0;32mNone\u001b[0m\u001b[0;34m:\u001b[0m\u001b[0;34m\u001b[0m\u001b[0m\n\u001b[1;32m     19\u001b[0m         raise ImportError(\n\u001b[0;32m---> 20\u001b[0;31m             \u001b[0;34m'Failed to import `pydot`. '\u001b[0m\u001b[0;34m\u001b[0m\u001b[0m\n\u001b[0m\u001b[1;32m     21\u001b[0m             \u001b[0;34m'Please install `pydot`. '\u001b[0m\u001b[0;34m\u001b[0m\u001b[0m\n\u001b[1;32m     22\u001b[0m             'For example with `pip install pydot`.')\n",
      "\u001b[0;31mImportError\u001b[0m: Failed to import `pydot`. Please install `pydot`. For example with `pip install pydot`."
     ]
    }
   ],
   "source": [
    "from IPython.display import SVG\n",
    "from keras.utils.vis_utils import model_to_dot\n",
    "\n",
    "def plot_model_in_notebook(model):\n",
    "    return SVG(model_to_dot(model, show_shapes=True).create(prog='dot', format='svg'))\n",
    "\n",
    "plot_model_in_notebook(model)"
   ]
  },
  {
   "cell_type": "code",
   "execution_count": 211,
   "metadata": {},
   "outputs": [
    {
     "name": "stdout",
     "output_type": "stream",
     "text": [
      "__________________________________________________________________________________________________\n",
      "Layer (type)                    Output Shape         Param #     Connected to                     \n",
      "==================================================================================================\n",
      "input_1 (InputLayer)            (None, 500)          0                                            \n",
      "__________________________________________________________________________________________________\n",
      "embedding_1 (Embedding)         (None, 500, 50)      2500000     input_1[0][0]                    \n",
      "__________________________________________________________________________________________________\n",
      "flatten_1 (Flatten)             (None, 25000)        0           embedding_1[0][0]                \n",
      "__________________________________________________________________________________________________\n",
      "dropout_1 (Dropout)             (None, 25000)        0           flatten_1[0][0]                  \n",
      "__________________________________________________________________________________________________\n",
      "input_2 (InputLayer)            (None, 500)          0                                            \n",
      "__________________________________________________________________________________________________\n",
      "dense_1 (Dense)                 (None, 32)           800032      dropout_1[0][0]                  \n",
      "__________________________________________________________________________________________________\n",
      "embedding_2 (Embedding)         (None, 500, 50)      69065200    input_2[0][0]                    \n",
      "__________________________________________________________________________________________________\n",
      "dropout_2 (Dropout)             (None, 32)           0           dense_1[0][0]                    \n",
      "__________________________________________________________________________________________________\n",
      "lstm_1 (LSTM)                   (None, 64)           29440       embedding_1[0][0]                \n",
      "__________________________________________________________________________________________________\n",
      "global_average_pooling1d_1 (Glo (None, 50)           0           embedding_2[0][0]                \n",
      "__________________________________________________________________________________________________\n",
      "concatenate_1 (Concatenate)     (None, 146)          0           dropout_2[0][0]                  \n",
      "                                                                 lstm_1[0][0]                     \n",
      "                                                                 global_average_pooling1d_1[0][0] \n",
      "__________________________________________________________________________________________________\n",
      "dropout_3 (Dropout)             (None, 146)          0           concatenate_1[0][0]              \n",
      "__________________________________________________________________________________________________\n",
      "dense_2 (Dense)                 (None, 1)            147         dropout_3[0][0]                  \n",
      "==================================================================================================\n",
      "Total params: 72,394,819\n",
      "Trainable params: 69,894,819\n",
      "Non-trainable params: 2,500,000\n",
      "__________________________________________________________________________________________________\n"
     ]
    }
   ],
   "source": [
    "model.summary()"
   ]
  },
  {
   "cell_type": "markdown",
   "metadata": {},
   "source": [
    "## This is a big model\n",
    "### If you can fit it on your computer (probably needs 16GB RAM) then do so\n",
    "### if not, try one epoch with a very small batch"
   ]
  },
  {
   "cell_type": "code",
   "execution_count": 212,
   "metadata": {},
   "outputs": [
    {
     "name": "stdout",
     "output_type": "stream",
     "text": [
      "Train on 20000 samples, validate on 5000 samples\n",
      "Epoch 1/1\n",
      "20000/20000 [==============================] - 363s 18ms/step - loss: 0.6369 - acc: 0.6375 - val_loss: 0.5585 - val_acc: 0.7140\n"
     ]
    },
    {
     "data": {
      "text/plain": [
       "<keras.callbacks.History at 0x7f50e0fdd4e0>"
      ]
     },
     "execution_count": 212,
     "metadata": {},
     "output_type": "execute_result"
    }
   ],
   "source": [
    "# ~2 min epoch\n",
    "model.fit(\n",
    "    [int_sequences_train, ft_sequences_train],\n",
    "    y_train, \n",
    "    epochs=1, \n",
    "    batch_size=128, \n",
    "    validation_split=0.2\n",
    ")"
   ]
  },
  {
   "cell_type": "code",
   "execution_count": 213,
   "metadata": {},
   "outputs": [
    {
     "name": "stderr",
     "output_type": "stream",
     "text": [
      "/home/dan/anaconda3/lib/python3.5/site-packages/matplotlib/axes/_base.py:2917: UserWarning: Attempting to set identical left==right results\n",
      "in singular transformations; automatically expanding.\n",
      "left=0.0, right=0.0\n",
      "  'left=%s, right=%s') % (left, right))\n"
     ]
    },
    {
     "data": {
      "text/plain": [
       "<matplotlib.text.Text at 0x7f52d0d548d0>"
      ]
     },
     "execution_count": 213,
     "metadata": {},
     "output_type": "execute_result"
    },
    {
     "data": {
      "image/png": "[encoded data removed]",
      "text/plain": [
       "<matplotlib.figure.Figure at 0x7f52c622dc18>"
      ]
     },
     "metadata": {},
     "output_type": "display_data"
    }
   ],
   "source": [
    "from sklearn.metrics import accuracy_score\n",
    "pd.DataFrame(model.history.history)[['acc', 'val_acc']].plot(\n",
    "    figsize=(16,9), fontsize=16, style='o', markersize=16\n",
    ")\n",
    "plt.legend(fontsize=16)\n",
    "plt.xlabel('epoch', fontsize=16)\n",
    "\n",
    "\n",
    "preds = (model.predict([\n",
    "    int_sequences_test, \n",
    "    ft_sequences_test\n",
    "]) > 0.5).squeeze().astype(int)\n",
    "test_acc = accuracy_score(y_test, preds)\n",
    "plt.title('test accuracy = {:.3f}'.format(test_acc), fontsize=20)"
   ]
  },
  {
   "cell_type": "code",
   "execution_count": null,
   "metadata": {},
   "outputs": [],
   "source": []
  },
  {
   "cell_type": "markdown",
   "metadata": {},
   "source": [
    "## The crux of the problem!\n",
    "## Part 6: Why is this worse than combining by hand? \n",
    "### Please put plain text answers here"
   ]
  },
  {
   "cell_type": "code",
   "execution_count": null,
   "metadata": {},
   "outputs": [],
   "source": []
  },
  {
   "cell_type": "code",
   "execution_count": null,
   "metadata": {},
   "outputs": [],
   "source": []
  },
  {
   "cell_type": "markdown",
   "metadata": {},
   "source": [
    "# Problem 3: NER, again! (35%)"
   ]
  },
  {
   "cell_type": "code",
   "execution_count": null,
   "metadata": {},
   "outputs": [],
   "source": []
  },
  {
   "cell_type": "code",
   "execution_count": 1,
   "metadata": {},
   "outputs": [
    {
     "name": "stdout",
     "output_type": "stream",
     "text": [
      "Populating the interactive namespace from numpy and matplotlib\n"
     ]
    },
    {
     "name": "stderr",
     "output_type": "stream",
     "text": [
      "Using TensorFlow backend.\n"
     ]
    }
   ],
   "source": [
    "import numpy as np\n",
    "import pandas as pd\n",
    "%pylab inline\n",
    "\n",
    "import re\n",
    "import os\n",
    "\n",
    "from sklearn.linear_model import LogisticRegression\n",
    "from sklearn.metrics import accuracy_score, f1_score\n",
    "\n",
    "from keras.models import Model\n",
    "from keras.layers import Input, Dropout, Dense\n",
    "from keras.initializers import Constant\n",
    "import keras.backend as K\n",
    "from keras.utils import to_categorical"
   ]
  },
  {
   "cell_type": "code",
   "execution_count": null,
   "metadata": {},
   "outputs": [],
   "source": [
    "GLOVE_FILE = '' # FIXME\n",
    "DATA_DIR = ''  # FIXME"
   ]
  },
  {
   "cell_type": "code",
   "execution_count": 2,
   "metadata": {},
   "outputs": [],
   "source": [
    "def load_glove_file(filepath):\n",
    "    word_to_vector = {}\n",
    "    with open(filepath) as f:\n",
    "        for line in f:\n",
    "            values = line.split()\n",
    "            word = values[0]\n",
    "            vector = np.asarray(values[1:], dtype='float32')\n",
    "            word_to_vector[word] = vector\n",
    "    return word_to_vector\n",
    "\n",
    "def load_dataset(fname):\n",
    "    docs = []\n",
    "    with open(fname) as fd:\n",
    "        cur = []\n",
    "        for line in fd:\n",
    "            # new sentence on -DOCSTART- or blank line\n",
    "            if re.match(r\"-DOCSTART-.+\", line) or (len(line.strip()) == 0):\n",
    "                if len(cur) > 0:\n",
    "                    docs.append(cur)\n",
    "                cur = []\n",
    "            else: # read in tokens\n",
    "                cur.append(line.strip().split(\"\\t\",1))\n",
    "        # flush running buffer\n",
    "        if cur:\n",
    "            docs.append(cur)\n",
    "    return docs\n",
    "\n",
    "word_vecs = load_glove_file(GLOVE_FILE)\n",
    "docs = load_dataset(os.path.join(DATA_PATH, 'train.conll'))"
   ]
  },
  {
   "cell_type": "code",
   "execution_count": 3,
   "metadata": {},
   "outputs": [
    {
     "data": {
      "text/plain": [
       "[['EU', 'ORG'],\n",
       " ['rejects', 'O'],\n",
       " ['German', 'MISC'],\n",
       " ['call', 'O'],\n",
       " ['to', 'O'],\n",
       " ['boycott', 'O'],\n",
       " ['British', 'MISC'],\n",
       " ['lamb', 'O'],\n",
       " ['.', 'O']]"
      ]
     },
     "execution_count": 3,
     "metadata": {},
     "output_type": "execute_result"
    }
   ],
   "source": [
    "docs[0]"
   ]
  },
  {
   "cell_type": "code",
   "execution_count": 21,
   "metadata": {},
   "outputs": [],
   "source": [
    "correct_first_doc = [\n",
    "    ['EU', 'ORG'],\n",
    "    ['rejects', 'O'],\n",
    "    ['German', 'MISC'],\n",
    "    ['call', 'O'],\n",
    "    ['to', 'O'],\n",
    "    ['boycott', 'O'],\n",
    "    ['British', 'MISC'],\n",
    "    ['lamb', 'O'],\n",
    "    ['.', 'O']\n",
    "]\n",
    "\n",
    "assert len(word_vecs) == 400000, 'word vectors did not load properly'\n",
    "assert word_vecs['the'].shape == (50,), 'word vectors did not load properly'\n",
    "assert len(docs) == 14041, 'something has gone wrong with data loading'\n",
    "assert docs[0] == correct_first_doc, 'something has gone wrong with data loading'\n",
    "\n",
    "\n",
    "MAX_WORDS = len(word_vecs)  # max number of words to use in the embedding\n",
    "UNKNOWN = 'UUUNKKK'  # token for unknown word\n",
    "UNKNOWN_WORD_INDEX = 0\n",
    "EMBEDDING_DIM = 50  # dimension of embedding\n",
    "NULL_TAG = 'O'  # tags that are not a named entity\n",
    "\n",
    "# Some derived quantities\n",
    "TAGS = (NULL_TAG, 'LOC', 'PER', 'ORG', 'MISC')\n",
    "NUM_TO_TAG = {num + 1: tag for num, tag in enumerate(TAGS)}\n",
    "TAG_TO_NUM = {tag: num for num, tag in NUM_TO_TAG.items()}\n",
    "\n",
    "NUM_CLASSES = len(TAG_TO_NUM) + 1  # for padding\n",
    "assert NUM_CLASSES == 6, 'somethig has gone wrong'\n",
    "\n",
    "word_to_num = {word: idx + 1 for idx, word in enumerate(word_vecs.keys())}\n",
    "num_to_word = {num: word for word, num in word_to_num.items()}\n",
    "\n",
    "word_to_num[UNKNOWN] = UNKNOWN_WORD_INDEX\n",
    "num_to_word[UNKNOWN_WORD_INDEX] = UNKNOWN\n",
    "\n",
    "assert word_to_num['the'] < 10, '\"the\" is not a common word- something has gone wrong.'"
   ]
  },
  {
   "cell_type": "code",
   "execution_count": 23,
   "metadata": {},
   "outputs": [],
   "source": [
    "embedding_matrix = np.zeros((MAX_WORDS, EMBEDDING_DIM))\n",
    "for word, i in word_to_num.items():#tok.word_index.items():\n",
    "    if i >= MAX_WORDS:\n",
    "        continue\n",
    "    embedding_vector = word_vecs.get(word)\n",
    "    if embedding_vector is not None:\n",
    "        # words not found in embedding index will be all-zeros.\n",
    "        embedding_matrix[i] = embedding_vector\n"
   ]
  },
  {
   "cell_type": "code",
   "execution_count": null,
   "metadata": {},
   "outputs": [],
   "source": []
  },
  {
   "cell_type": "code",
   "execution_count": 24,
   "metadata": {
    "scrolled": false
   },
   "outputs": [],
   "source": [
    "def process_sequences(doc, word_to_num, tag_to_num):\n",
    "    \"\"\"Process a sequence\n",
    "    Args:\n",
    "        doc: a sequence of word, tag  (both are str)\n",
    "        word_to_num: a dictionary mapping a word to an integer\n",
    "        tag_to_num: a dictionary mapping a tag to an integer\n",
    "    \"\"\"\n",
    "    int_seq = []\n",
    "    tags = []\n",
    "    # TODO loop through doc and assembed `int_seq`, and `tags`\n",
    "    #     both of which should be integers instead of strings\n",
    "    \n",
    "    # Your code here\n",
    "    \n",
    "    return int_seq, tags\n",
    "\n",
    "int_sequences = []\n",
    "tag_seqs = []\n",
    "\n",
    "# TODO\n",
    "# loop through docs\n",
    "# if the length of the document is less than 2, ignore it\n",
    "# otherwise process it into an integer sequence of words and\n",
    "# an integer sequences of tags (targets)\n",
    "# append the result to int_sequences and tag_seqs\n",
    "for doc in docs:\n",
    "    if len(doc) < 2:\n",
    "        continue\n",
    "    # your code here"
   ]
  },
  {
   "cell_type": "code",
   "execution_count": 25,
   "metadata": {},
   "outputs": [],
   "source": [
    "assert max(map(len, int_sequences)) == 113, 'something has gone wrong'"
   ]
  },
  {
   "cell_type": "code",
   "execution_count": 26,
   "metadata": {},
   "outputs": [],
   "source": [
    "MAX_SEQ_LEN = 115"
   ]
  },
  {
   "cell_type": "code",
   "execution_count": 27,
   "metadata": {},
   "outputs": [],
   "source": [
    "from keras.preprocessing.sequence import pad_sequences\n",
    "\n",
    "# TODO:\n",
    "# 1. padd the integer sequences of words\n",
    "# 2. to the same with the tags (targets)\n",
    "# 3. Turn the tags into categorical variables\n",
    "\n",
    "\n",
    "\n",
    "# your code here"
   ]
  },
  {
   "cell_type": "code",
   "execution_count": 28,
   "metadata": {},
   "outputs": [
    {
     "data": {
      "text/plain": [
       "(13862, 115)"
      ]
     },
     "execution_count": 28,
     "metadata": {},
     "output_type": "execute_result"
    }
   ],
   "source": [
    "int_sequences.shape"
   ]
  },
  {
   "cell_type": "code",
   "execution_count": 29,
   "metadata": {},
   "outputs": [],
   "source": [
    "from keras.layers import (\n",
    "    SimpleRNN, Dense, LSTM,\n",
    "    Embedding, Input, Dropout,\n",
    ")\n",
    "from keras.models import Model\n",
    "import keras.backend as K\n"
   ]
  },
  {
   "cell_type": "code",
   "execution_count": null,
   "metadata": {},
   "outputs": [],
   "source": [
    "K.clear_session()\n",
    "\n",
    "#TODO: Build a netowrk\n",
    "# 1. make an input\n",
    "# 2. make a non-trainable embedding\n",
    "# 3. make a single, LSTM, add dropout and recurrent dropout\n",
    "# 4. Make a single dense hidden layer\n",
    "# 5. Make the correct-sized output layer\n",
    "#       the output should be softmax\n",
    "\n",
    "# make a model and compile it\n",
    "\n",
    "# your code here\n",
    "\n",
    "\n",
    "\n",
    "model.summary()"
   ]
  },
  {
   "cell_type": "code",
   "execution_count": 31,
   "metadata": {},
   "outputs": [
    {
     "data": {
      "image/svg+xml": [
       "<svg height=\"387pt\" viewBox=\"0.00 0.00 328.00 387.00\" width=\"328pt\" xmlns=\"http://www.w3.org/2000/svg\" xmlns:xlink=\"http://www.w3.org/1999/xlink\">\n",
       "<g class=\"graph\" id=\"graph0\" transform=\"scale(1 1) rotate(0) translate(4 383)\">\n",
       "<title>G</title>\n",
       "<polygon fill=\"#ffffff\" points=\"-4,4 -4,-383 324,-383 324,4 -4,4\" stroke=\"transparent\"/>\n",
       "<!-- 140485476500592 -->\n",
       "<g class=\"node\" id=\"node1\">\n",
       "<title>140485476500592</title>\n",
       "<polygon fill=\"none\" points=\"28.5,-332.5 28.5,-378.5 291.5,-378.5 291.5,-332.5 28.5,-332.5\" stroke=\"#000000\"/>\n",
       "<text fill=\"#000000\" font-family=\"Times,serif\" font-size=\"14.00\" text-anchor=\"middle\" x=\"91\" y=\"-351.8\">input_1: InputLayer</text>\n",
       "<polyline fill=\"none\" points=\"153.5,-332.5 153.5,-378.5 \" stroke=\"#000000\"/>\n",
       "<text fill=\"#000000\" font-family=\"Times,serif\" font-size=\"14.00\" text-anchor=\"middle\" x=\"181\" y=\"-363.3\">input:</text>\n",
       "<polyline fill=\"none\" points=\"153.5,-355.5 208.5,-355.5 \" stroke=\"#000000\"/>\n",
       "<text fill=\"#000000\" font-family=\"Times,serif\" font-size=\"14.00\" text-anchor=\"middle\" x=\"181\" y=\"-340.3\">output:</text>\n",
       "<polyline fill=\"none\" points=\"208.5,-332.5 208.5,-378.5 \" stroke=\"#000000\"/>\n",
       "<text fill=\"#000000\" font-family=\"Times,serif\" font-size=\"14.00\" text-anchor=\"middle\" x=\"250\" y=\"-363.3\">(None, 115)</text>\n",
       "<polyline fill=\"none\" points=\"208.5,-355.5 291.5,-355.5 \" stroke=\"#000000\"/>\n",
       "<text fill=\"#000000\" font-family=\"Times,serif\" font-size=\"14.00\" text-anchor=\"middle\" x=\"250\" y=\"-340.3\">(None, 115)</text>\n",
       "</g>\n",
       "<!-- 140485476500536 -->\n",
       "<g class=\"node\" id=\"node2\">\n",
       "<title>140485476500536</title>\n",
       "<polygon fill=\"none\" points=\"0,-249.5 0,-295.5 320,-295.5 320,-249.5 0,-249.5\" stroke=\"#000000\"/>\n",
       "<text fill=\"#000000\" font-family=\"Times,serif\" font-size=\"14.00\" text-anchor=\"middle\" x=\"80.5\" y=\"-268.8\">embedding_1: Embedding</text>\n",
       "<polyline fill=\"none\" points=\"161,-249.5 161,-295.5 \" stroke=\"#000000\"/>\n",
       "<text fill=\"#000000\" font-family=\"Times,serif\" font-size=\"14.00\" text-anchor=\"middle\" x=\"188.5\" y=\"-280.3\">input:</text>\n",
       "<polyline fill=\"none\" points=\"161,-272.5 216,-272.5 \" stroke=\"#000000\"/>\n",
       "<text fill=\"#000000\" font-family=\"Times,serif\" font-size=\"14.00\" text-anchor=\"middle\" x=\"188.5\" y=\"-257.3\">output:</text>\n",
       "<polyline fill=\"none\" points=\"216,-249.5 216,-295.5 \" stroke=\"#000000\"/>\n",
       "<text fill=\"#000000\" font-family=\"Times,serif\" font-size=\"14.00\" text-anchor=\"middle\" x=\"268\" y=\"-280.3\">(None, 115)</text>\n",
       "<polyline fill=\"none\" points=\"216,-272.5 320,-272.5 \" stroke=\"#000000\"/>\n",
       "<text fill=\"#000000\" font-family=\"Times,serif\" font-size=\"14.00\" text-anchor=\"middle\" x=\"268\" y=\"-257.3\">(None, 115, 50)</text>\n",
       "</g>\n",
       "<!-- 140485476500592&#45;&gt;140485476500536 -->\n",
       "<g class=\"edge\" id=\"edge1\">\n",
       "<title>140485476500592-&gt;140485476500536</title>\n",
       "<path d=\"M160,-332.3799C160,-324.1745 160,-314.7679 160,-305.8786\" fill=\"none\" stroke=\"#000000\"/>\n",
       "<polygon fill=\"#000000\" points=\"163.5001,-305.784 160,-295.784 156.5001,-305.784 163.5001,-305.784\" stroke=\"#000000\"/>\n",
       "</g>\n",
       "<!-- 140485476500480 -->\n",
       "<g class=\"node\" id=\"node3\">\n",
       "<title>140485476500480</title>\n",
       "<polygon fill=\"none\" points=\"31.5,-166.5 31.5,-212.5 288.5,-212.5 288.5,-166.5 31.5,-166.5\" stroke=\"#000000\"/>\n",
       "<text fill=\"#000000\" font-family=\"Times,serif\" font-size=\"14.00\" text-anchor=\"middle\" x=\"80.5\" y=\"-185.8\">lstm_1: LSTM</text>\n",
       "<polyline fill=\"none\" points=\"129.5,-166.5 129.5,-212.5 \" stroke=\"#000000\"/>\n",
       "<text fill=\"#000000\" font-family=\"Times,serif\" font-size=\"14.00\" text-anchor=\"middle\" x=\"157\" y=\"-197.3\">input:</text>\n",
       "<polyline fill=\"none\" points=\"129.5,-189.5 184.5,-189.5 \" stroke=\"#000000\"/>\n",
       "<text fill=\"#000000\" font-family=\"Times,serif\" font-size=\"14.00\" text-anchor=\"middle\" x=\"157\" y=\"-174.3\">output:</text>\n",
       "<polyline fill=\"none\" points=\"184.5,-166.5 184.5,-212.5 \" stroke=\"#000000\"/>\n",
       "<text fill=\"#000000\" font-family=\"Times,serif\" font-size=\"14.00\" text-anchor=\"middle\" x=\"236.5\" y=\"-197.3\">(None, 115, 50)</text>\n",
       "<polyline fill=\"none\" points=\"184.5,-189.5 288.5,-189.5 \" stroke=\"#000000\"/>\n",
       "<text fill=\"#000000\" font-family=\"Times,serif\" font-size=\"14.00\" text-anchor=\"middle\" x=\"236.5\" y=\"-174.3\">(None, 115, 64)</text>\n",
       "</g>\n",
       "<!-- 140485476500536&#45;&gt;140485476500480 -->\n",
       "<g class=\"edge\" id=\"edge2\">\n",
       "<title>140485476500536-&gt;140485476500480</title>\n",
       "<path d=\"M160,-249.3799C160,-241.1745 160,-231.7679 160,-222.8786\" fill=\"none\" stroke=\"#000000\"/>\n",
       "<polygon fill=\"#000000\" points=\"163.5001,-222.784 160,-212.784 156.5001,-222.784 163.5001,-222.784\" stroke=\"#000000\"/>\n",
       "</g>\n",
       "<!-- 140485477169192 -->\n",
       "<g class=\"node\" id=\"node4\">\n",
       "<title>140485477169192</title>\n",
       "<polygon fill=\"none\" points=\"29.5,-83.5 29.5,-129.5 290.5,-129.5 290.5,-83.5 29.5,-83.5\" stroke=\"#000000\"/>\n",
       "<text fill=\"#000000\" font-family=\"Times,serif\" font-size=\"14.00\" text-anchor=\"middle\" x=\"80.5\" y=\"-102.8\">dense_1: Dense</text>\n",
       "<polyline fill=\"none\" points=\"131.5,-83.5 131.5,-129.5 \" stroke=\"#000000\"/>\n",
       "<text fill=\"#000000\" font-family=\"Times,serif\" font-size=\"14.00\" text-anchor=\"middle\" x=\"159\" y=\"-114.3\">input:</text>\n",
       "<polyline fill=\"none\" points=\"131.5,-106.5 186.5,-106.5 \" stroke=\"#000000\"/>\n",
       "<text fill=\"#000000\" font-family=\"Times,serif\" font-size=\"14.00\" text-anchor=\"middle\" x=\"159\" y=\"-91.3\">output:</text>\n",
       "<polyline fill=\"none\" points=\"186.5,-83.5 186.5,-129.5 \" stroke=\"#000000\"/>\n",
       "<text fill=\"#000000\" font-family=\"Times,serif\" font-size=\"14.00\" text-anchor=\"middle\" x=\"238.5\" y=\"-114.3\">(None, 115, 64)</text>\n",
       "<polyline fill=\"none\" points=\"186.5,-106.5 290.5,-106.5 \" stroke=\"#000000\"/>\n",
       "<text fill=\"#000000\" font-family=\"Times,serif\" font-size=\"14.00\" text-anchor=\"middle\" x=\"238.5\" y=\"-91.3\">(None, 115, 32)</text>\n",
       "</g>\n",
       "<!-- 140485476500480&#45;&gt;140485477169192 -->\n",
       "<g class=\"edge\" id=\"edge3\">\n",
       "<title>140485476500480-&gt;140485477169192</title>\n",
       "<path d=\"M160,-166.3799C160,-158.1745 160,-148.7679 160,-139.8786\" fill=\"none\" stroke=\"#000000\"/>\n",
       "<polygon fill=\"#000000\" points=\"163.5001,-139.784 160,-129.784 156.5001,-139.784 163.5001,-139.784\" stroke=\"#000000\"/>\n",
       "</g>\n",
       "<!-- 140485476834496 -->\n",
       "<g class=\"node\" id=\"node5\">\n",
       "<title>140485476834496</title>\n",
       "<polygon fill=\"none\" points=\"29.5,-.5 29.5,-46.5 290.5,-46.5 290.5,-.5 29.5,-.5\" stroke=\"#000000\"/>\n",
       "<text fill=\"#000000\" font-family=\"Times,serif\" font-size=\"14.00\" text-anchor=\"middle\" x=\"80.5\" y=\"-19.8\">dense_2: Dense</text>\n",
       "<polyline fill=\"none\" points=\"131.5,-.5 131.5,-46.5 \" stroke=\"#000000\"/>\n",
       "<text fill=\"#000000\" font-family=\"Times,serif\" font-size=\"14.00\" text-anchor=\"middle\" x=\"159\" y=\"-31.3\">input:</text>\n",
       "<polyline fill=\"none\" points=\"131.5,-23.5 186.5,-23.5 \" stroke=\"#000000\"/>\n",
       "<text fill=\"#000000\" font-family=\"Times,serif\" font-size=\"14.00\" text-anchor=\"middle\" x=\"159\" y=\"-8.3\">output:</text>\n",
       "<polyline fill=\"none\" points=\"186.5,-.5 186.5,-46.5 \" stroke=\"#000000\"/>\n",
       "<text fill=\"#000000\" font-family=\"Times,serif\" font-size=\"14.00\" text-anchor=\"middle\" x=\"238.5\" y=\"-31.3\">(None, 115, 32)</text>\n",
       "<polyline fill=\"none\" points=\"186.5,-23.5 290.5,-23.5 \" stroke=\"#000000\"/>\n",
       "<text fill=\"#000000\" font-family=\"Times,serif\" font-size=\"14.00\" text-anchor=\"middle\" x=\"238.5\" y=\"-8.3\">(None, 115, 6)</text>\n",
       "</g>\n",
       "<!-- 140485477169192&#45;&gt;140485476834496 -->\n",
       "<g class=\"edge\" id=\"edge4\">\n",
       "<title>140485477169192-&gt;140485476834496</title>\n",
       "<path d=\"M160,-83.3799C160,-75.1745 160,-65.7679 160,-56.8786\" fill=\"none\" stroke=\"#000000\"/>\n",
       "<polygon fill=\"#000000\" points=\"163.5001,-56.784 160,-46.784 156.5001,-56.784 163.5001,-56.784\" stroke=\"#000000\"/>\n",
       "</g>\n",
       "</g>\n",
       "</svg>"
      ],
      "text/plain": [
       "<IPython.core.display.SVG object>"
      ]
     },
     "execution_count": 31,
     "metadata": {},
     "output_type": "execute_result"
    }
   ],
   "source": [
    "from IPython.display import SVG\n",
    "from keras.utils.vis_utils import model_to_dot\n",
    "\n",
    "def plot_model_in_notebook(model):\n",
    "    return SVG(model_to_dot(model, show_shapes=True).create(prog='dot', format='svg'))\n",
    "plot_model_in_notebook(model)"
   ]
  },
  {
   "cell_type": "code",
   "execution_count": null,
   "metadata": {},
   "outputs": [],
   "source": [
    "model.fit(\n",
    "    int_sequences, tag_seqs, \n",
    "    validation_split=0.2, \n",
    "    epochs=10, \n",
    "    batch_size=128\n",
    ")"
   ]
  },
  {
   "cell_type": "code",
   "execution_count": 33,
   "metadata": {},
   "outputs": [
    {
     "name": "stdout",
     "output_type": "stream",
     "text": [
      "Today: None\n",
      "people: O\n",
      "will: O\n",
      "vote: O\n",
      "for: O\n",
      "president: O\n",
      "in: O\n",
      "Fooland: LOC\n",
      ",: O\n",
      "Janet: PER\n",
      "said: O\n",
      ".: O\n"
     ]
    }
   ],
   "source": [
    "#sentence = 'I live in Brussels , BG.'.split()\n",
    "sentence = 'Today people will vote for president in Fooland , Janet said .'.split()\n",
    "\n",
    "# TODO:\n",
    "# 1. turn sentence (list of str) into an integer sequence\n",
    "# 2. Use the model, call `predict` on the integer sequence\n",
    "# 3. create a list of predicted labels for each word called `predicted_labels`\n",
    "# 4. remove the padding from predicted_labels\n",
    "\n",
    "#sent_int ...= [  # to be remove\n",
    "\n",
    "#preds = ...\n",
    "\n",
    "# predicted_labels = ... \n",
    "for word, lab in zip(sentence, predicted_labels):\n",
    "    print('{}: {}'.format(word, lab))"
   ]
  },
  {
   "cell_type": "code",
   "execution_count": null,
   "metadata": {},
   "outputs": [],
   "source": []
  }
 ],
 "metadata": {
  "kernelspec": {
   "display_name": "Python [default]",
   "language": "python",
   "name": "python3"
  },
  "language_info": {
   "codemirror_mode": {
    "name": "ipython",
    "version": 3
   },
   "file_extension": ".py",
   "mimetype": "text/x-python",
   "name": "python",
   "nbconvert_exporter": "python",
   "pygments_lexer": "ipython3",
   "version": "3.5.4"
  }
 },
 "nbformat": 4,
 "nbformat_minor": 2
}
